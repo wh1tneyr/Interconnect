{
 "cells": [
  {
   "cell_type": "markdown",
   "metadata": {},
   "source": [
    "# Interconnect: Predicción de Cancelación de Clientes en una Compañía de Telecomunicaciones\n",
    "\n",
    "\n",
    "Este proyecto se enfoca en desarrollar un modelo de clasificación binaria para predecir la tasa de cancelación de clientes (churn) en una empresa de telecomunicaciones. El objetivo es construir un modelo de aprendizaje supervisado que, utilizando datos históricos de los usuarios, pueda identificar aquellos que tienen una alta probabilidad de abandonar el servicio. Con esta información, la compañía podrá implementar estrategias de retención personalizadas, como ofertas promocionales y planes especiales, con el fin de reducir la tasa de cancelación y mejorar la fidelización de clientes.\n",
    "\n",
    "\n",
    "\n",
    "\n",
    "\n",
    "\n",
    "### Tabla de contenido:\n",
    "\n",
    "1. Inicialización\n",
    "2. Cargar datos \n",
    "3. Preprocesamiento de datos\n",
    "- 3.1.1. Información sobre contratos\n",
    "- 3.1.2. Información personal\n",
    "- 3.1.3. Información sobre telefonía\n",
    "- 3.1.4. Información sobre servicios de internet\n",
    "4. Funciones\n",
    "5. Exploración de datos (EDA)\n",
    "- 5.1. Concatenación de  toda la información\n",
    "- 5.2. Desequilibrio de clases\n",
    "- 5.3. Fechas\n",
    "   -  5.3.1. Fechas de registro de contratos\n",
    "   -  5.3.2. Fechas de cancelación de contratos\n",
    "- 5.4. Tarifas\n",
    "   - 5.4.1. Montos mensuales\n",
    "      - 5.4.1.1 Promedio de montos mensuales por año\n",
    "      - 5.4.1.2 Promedio de montos mensuales por tipo de contrato\n",
    "   - 5.4.2. Montos totales\n",
    "      - 5.4.2.1 Promedio de montos totales por año\n",
    "      - 5.4.2.1 Promedio de montos totales por tipo de contrato\n",
    "- 5.5. Cancelación de contratos\n",
    "   - 5.5.1. Tasa de cancelación según tipo de contrato\n",
    "   - 5.5.2. Cancelación según tipo de internet\n",
    "   - 5.5.3. Cancelación según otros servicios derivados de internet\n",
    "   - 5.5.4. Cancelación según género\n",
    "   - 5.5.5. Cancelación según información personal\n",
    "      - 5.5.5.1. Visualización de cancelación según información personal\n",
    "- 5.6. Conclusiones EDA\n",
    "6. Entrenamiento de los modelos\n",
    "- 6.1. Preparación de datos para el entrenamiento \n",
    "- 6.2. Modelos\n",
    "   - 6.2.1. Bosque aleatorio\n",
    "   - 6.2.2. Árbol de decisión\n",
    "   - 6.2.3. Catboost\n",
    "   - 6.2.4. LightGBM\n",
    "- 6.3. Selección del modelo\n",
    "- 6.4. Conclusiones del entrenamiento \n",
    "7. Informe final\n",
    "   "
   ]
  },
  {
   "cell_type": "markdown",
   "metadata": {},
   "source": [
    "### 1. Inicialización"
   ]
  },
  {
   "cell_type": "code",
   "execution_count": 1,
   "metadata": {},
   "outputs": [],
   "source": [
    "# Importar librerias\n",
    "import pandas as pd\n",
    "import os, sys\n",
    "sys.path.append(os.getcwd())\n",
    "import matplotlib.pyplot as plt\n",
    "\n",
    "from sklearn.preprocessing import StandardScaler, OrdinalEncoder\n",
    "from sklearn.metrics import roc_auc_score, accuracy_score\n",
    "from sklearn.model_selection import train_test_split"
   ]
  },
  {
   "cell_type": "code",
   "execution_count": 2,
   "metadata": {},
   "outputs": [],
   "source": [
    "# Modelos \n",
    "from sklearn.model_selection import GridSearchCV\n",
    "from sklearn.ensemble import RandomForestClassifier\n",
    "from sklearn.tree import DecisionTreeClassifier\n",
    "from catboost import CatBoostClassifier\n",
    "from lightgbm import LGBMClassifier"
   ]
  },
  {
   "cell_type": "markdown",
   "metadata": {},
   "source": [
    "### 2. Cargar datos"
   ]
  },
  {
   "cell_type": "code",
   "execution_count": 3,
   "metadata": {},
   "outputs": [],
   "source": [
    "# Leer los sets de datos \n",
    "user_contract = pd.read_csv('files/datasets/final_provider/contract.csv')\n",
    "user_personal_info = pd.read_csv('files/datasets/final_provider/personal.csv')\n",
    "phone_ser = pd.read_csv('files/datasets/final_provider/phone.csv')\n",
    "internet_ser = pd.read_csv('files/datasets/final_provider/internet.csv') "
   ]
  },
  {
   "cell_type": "markdown",
   "metadata": {},
   "source": [
    "### 3. Prepocesamiento de datos"
   ]
  },
  {
   "cell_type": "markdown",
   "metadata": {},
   "source": [
    "#### 3.1.1. Información sobre contratos"
   ]
  },
  {
   "cell_type": "code",
   "execution_count": 4,
   "metadata": {},
   "outputs": [
    {
     "data": {
      "text/html": [
       "<div>\n",
       "<style scoped>\n",
       "    .dataframe tbody tr th:only-of-type {\n",
       "        vertical-align: middle;\n",
       "    }\n",
       "\n",
       "    .dataframe tbody tr th {\n",
       "        vertical-align: top;\n",
       "    }\n",
       "\n",
       "    .dataframe thead th {\n",
       "        text-align: right;\n",
       "    }\n",
       "</style>\n",
       "<table border=\"1\" class=\"dataframe\">\n",
       "  <thead>\n",
       "    <tr style=\"text-align: right;\">\n",
       "      <th></th>\n",
       "      <th>customerID</th>\n",
       "      <th>BeginDate</th>\n",
       "      <th>EndDate</th>\n",
       "      <th>Type</th>\n",
       "      <th>PaperlessBilling</th>\n",
       "      <th>PaymentMethod</th>\n",
       "      <th>MonthlyCharges</th>\n",
       "      <th>TotalCharges</th>\n",
       "    </tr>\n",
       "  </thead>\n",
       "  <tbody>\n",
       "    <tr>\n",
       "      <th>0</th>\n",
       "      <td>7590-VHVEG</td>\n",
       "      <td>2020-01-01</td>\n",
       "      <td>No</td>\n",
       "      <td>Month-to-month</td>\n",
       "      <td>Yes</td>\n",
       "      <td>Electronic check</td>\n",
       "      <td>29.85</td>\n",
       "      <td>29.85</td>\n",
       "    </tr>\n",
       "    <tr>\n",
       "      <th>1</th>\n",
       "      <td>5575-GNVDE</td>\n",
       "      <td>2017-04-01</td>\n",
       "      <td>No</td>\n",
       "      <td>One year</td>\n",
       "      <td>No</td>\n",
       "      <td>Mailed check</td>\n",
       "      <td>56.95</td>\n",
       "      <td>1889.5</td>\n",
       "    </tr>\n",
       "    <tr>\n",
       "      <th>2</th>\n",
       "      <td>3668-QPYBK</td>\n",
       "      <td>2019-10-01</td>\n",
       "      <td>2019-12-01 00:00:00</td>\n",
       "      <td>Month-to-month</td>\n",
       "      <td>Yes</td>\n",
       "      <td>Mailed check</td>\n",
       "      <td>53.85</td>\n",
       "      <td>108.15</td>\n",
       "    </tr>\n",
       "    <tr>\n",
       "      <th>3</th>\n",
       "      <td>7795-CFOCW</td>\n",
       "      <td>2016-05-01</td>\n",
       "      <td>No</td>\n",
       "      <td>One year</td>\n",
       "      <td>No</td>\n",
       "      <td>Bank transfer (automatic)</td>\n",
       "      <td>42.30</td>\n",
       "      <td>1840.75</td>\n",
       "    </tr>\n",
       "    <tr>\n",
       "      <th>4</th>\n",
       "      <td>9237-HQITU</td>\n",
       "      <td>2019-09-01</td>\n",
       "      <td>2019-11-01 00:00:00</td>\n",
       "      <td>Month-to-month</td>\n",
       "      <td>Yes</td>\n",
       "      <td>Electronic check</td>\n",
       "      <td>70.70</td>\n",
       "      <td>151.65</td>\n",
       "    </tr>\n",
       "  </tbody>\n",
       "</table>\n",
       "</div>"
      ],
      "text/plain": [
       "   customerID   BeginDate              EndDate            Type  \\\n",
       "0  7590-VHVEG  2020-01-01                   No  Month-to-month   \n",
       "1  5575-GNVDE  2017-04-01                   No        One year   \n",
       "2  3668-QPYBK  2019-10-01  2019-12-01 00:00:00  Month-to-month   \n",
       "3  7795-CFOCW  2016-05-01                   No        One year   \n",
       "4  9237-HQITU  2019-09-01  2019-11-01 00:00:00  Month-to-month   \n",
       "\n",
       "  PaperlessBilling              PaymentMethod  MonthlyCharges TotalCharges  \n",
       "0              Yes           Electronic check           29.85        29.85  \n",
       "1               No               Mailed check           56.95       1889.5  \n",
       "2              Yes               Mailed check           53.85       108.15  \n",
       "3               No  Bank transfer (automatic)           42.30      1840.75  \n",
       "4              Yes           Electronic check           70.70       151.65  "
      ]
     },
     "execution_count": 4,
     "metadata": {},
     "output_type": "execute_result"
    }
   ],
   "source": [
    "# Visualizar\n",
    "user_contract.head()"
   ]
  },
  {
   "cell_type": "code",
   "execution_count": 5,
   "metadata": {},
   "outputs": [
    {
     "name": "stdout",
     "output_type": "stream",
     "text": [
      "<class 'pandas.core.frame.DataFrame'>\n",
      "RangeIndex: 7043 entries, 0 to 7042\n",
      "Data columns (total 8 columns):\n",
      " #   Column            Non-Null Count  Dtype  \n",
      "---  ------            --------------  -----  \n",
      " 0   customerID        7043 non-null   object \n",
      " 1   BeginDate         7043 non-null   object \n",
      " 2   EndDate           7043 non-null   object \n",
      " 3   Type              7043 non-null   object \n",
      " 4   PaperlessBilling  7043 non-null   object \n",
      " 5   PaymentMethod     7043 non-null   object \n",
      " 6   MonthlyCharges    7043 non-null   float64\n",
      " 7   TotalCharges      7043 non-null   object \n",
      "dtypes: float64(1), object(7)\n",
      "memory usage: 440.3+ KB\n"
     ]
    }
   ],
   "source": [
    "# Visualizar\n",
    "user_contract.info()"
   ]
  },
  {
   "cell_type": "markdown",
   "metadata": {},
   "source": [
    "Hay dos columnas con tipos de datos inadecuados."
   ]
  },
  {
   "cell_type": "code",
   "execution_count": 6,
   "metadata": {},
   "outputs": [
    {
     "name": "stdout",
     "output_type": "stream",
     "text": [
      "Ausentes: \n",
      " customerID          0\n",
      "BeginDate           0\n",
      "EndDate             0\n",
      "Type                0\n",
      "PaperlessBilling    0\n",
      "PaymentMethod       0\n",
      "MonthlyCharges      0\n",
      "TotalCharges        0\n",
      "dtype: int64 \n",
      "\n",
      "Duplicados: 0 \n",
      "\n"
     ]
    }
   ],
   "source": [
    "# Revisar valores ausentes y duplicados\n",
    "print('Ausentes:', '\\n', user_contract.isna().sum(), '\\n')\n",
    "print('Duplicados:', user_contract.duplicated().sum(), '\\n')"
   ]
  },
  {
   "cell_type": "markdown",
   "metadata": {},
   "source": [
    "Sin datos duplicados ni ausentes"
   ]
  },
  {
   "cell_type": "code",
   "execution_count": 7,
   "metadata": {},
   "outputs": [],
   "source": [
    "# Convertir 'BeginDate' a formato fecha\n",
    "# Convetir 'TotalCharges' a formato float\n",
    "\n",
    "user_contract['BeginDate'] = pd.to_datetime(user_contract['BeginDate'], format='%Y-%m-%d')\n",
    "user_contract['TotalCharges'] = pd.to_numeric(user_contract['TotalCharges'], errors='coerce')"
   ]
  },
  {
   "cell_type": "code",
   "execution_count": 8,
   "metadata": {},
   "outputs": [
    {
     "name": "stdout",
     "output_type": "stream",
     "text": [
      "Ausentes: \n",
      " customerID           0\n",
      "BeginDate            0\n",
      "EndDate              0\n",
      "Type                 0\n",
      "PaperlessBilling     0\n",
      "PaymentMethod        0\n",
      "MonthlyCharges       0\n",
      "TotalCharges        11\n",
      "dtype: int64 \n",
      "\n",
      "Duplicados: 0\n"
     ]
    }
   ],
   "source": [
    "# Revisar valores ausentes y duplicados\n",
    "print('Ausentes:', '\\n', user_contract.isna().sum(), '\\n')\n",
    "print('Duplicados:', user_contract.duplicated().sum())"
   ]
  },
  {
   "cell_type": "markdown",
   "metadata": {},
   "source": [
    "Luego de la conversion de los tipos de datos en dos columnas, surgieron algunos datos ausentes en la conlumna de cargos totales. Como son pocos, los eliminare."
   ]
  },
  {
   "cell_type": "code",
   "execution_count": 9,
   "metadata": {},
   "outputs": [
    {
     "name": "stdout",
     "output_type": "stream",
     "text": [
      "<class 'pandas.core.frame.DataFrame'>\n",
      "RangeIndex: 7032 entries, 0 to 7031\n",
      "Data columns (total 8 columns):\n",
      " #   Column            Non-Null Count  Dtype         \n",
      "---  ------            --------------  -----         \n",
      " 0   customerID        7032 non-null   object        \n",
      " 1   BeginDate         7032 non-null   datetime64[ns]\n",
      " 2   EndDate           7032 non-null   object        \n",
      " 3   Type              7032 non-null   object        \n",
      " 4   PaperlessBilling  7032 non-null   object        \n",
      " 5   PaymentMethod     7032 non-null   object        \n",
      " 6   MonthlyCharges    7032 non-null   float64       \n",
      " 7   TotalCharges      7032 non-null   float64       \n",
      "dtypes: datetime64[ns](1), float64(2), object(5)\n",
      "memory usage: 439.6+ KB\n",
      "None\n"
     ]
    }
   ],
   "source": [
    "# Eliminar valores ausentes \n",
    "user_contract = user_contract.dropna().reset_index(drop=True)\n",
    "\n",
    "# Comprobar dataset preprocesado \n",
    "print(user_contract.info())"
   ]
  },
  {
   "cell_type": "markdown",
   "metadata": {},
   "source": [
    "Ya no hay duplicados ni ausentes y los tipos de datos son correctos"
   ]
  },
  {
   "cell_type": "markdown",
   "metadata": {},
   "source": [
    "#### 3.1.2. Información personal"
   ]
  },
  {
   "cell_type": "code",
   "execution_count": 10,
   "metadata": {},
   "outputs": [
    {
     "name": "stdout",
     "output_type": "stream",
     "text": [
      "<class 'pandas.core.frame.DataFrame'>\n",
      "RangeIndex: 7043 entries, 0 to 7042\n",
      "Data columns (total 5 columns):\n",
      " #   Column         Non-Null Count  Dtype \n",
      "---  ------         --------------  ----- \n",
      " 0   customerID     7043 non-null   object\n",
      " 1   gender         7043 non-null   object\n",
      " 2   SeniorCitizen  7043 non-null   int64 \n",
      " 3   Partner        7043 non-null   object\n",
      " 4   Dependents     7043 non-null   object\n",
      "dtypes: int64(1), object(4)\n",
      "memory usage: 275.2+ KB\n"
     ]
    }
   ],
   "source": [
    "# Visualizar\n",
    "user_personal_info.info()"
   ]
  },
  {
   "cell_type": "code",
   "execution_count": 11,
   "metadata": {},
   "outputs": [
    {
     "data": {
      "text/html": [
       "<div>\n",
       "<style scoped>\n",
       "    .dataframe tbody tr th:only-of-type {\n",
       "        vertical-align: middle;\n",
       "    }\n",
       "\n",
       "    .dataframe tbody tr th {\n",
       "        vertical-align: top;\n",
       "    }\n",
       "\n",
       "    .dataframe thead th {\n",
       "        text-align: right;\n",
       "    }\n",
       "</style>\n",
       "<table border=\"1\" class=\"dataframe\">\n",
       "  <thead>\n",
       "    <tr style=\"text-align: right;\">\n",
       "      <th></th>\n",
       "      <th>customerID</th>\n",
       "      <th>gender</th>\n",
       "      <th>SeniorCitizen</th>\n",
       "      <th>Partner</th>\n",
       "      <th>Dependents</th>\n",
       "    </tr>\n",
       "  </thead>\n",
       "  <tbody>\n",
       "    <tr>\n",
       "      <th>0</th>\n",
       "      <td>7590-VHVEG</td>\n",
       "      <td>Female</td>\n",
       "      <td>0</td>\n",
       "      <td>Yes</td>\n",
       "      <td>No</td>\n",
       "    </tr>\n",
       "    <tr>\n",
       "      <th>1</th>\n",
       "      <td>5575-GNVDE</td>\n",
       "      <td>Male</td>\n",
       "      <td>0</td>\n",
       "      <td>No</td>\n",
       "      <td>No</td>\n",
       "    </tr>\n",
       "    <tr>\n",
       "      <th>2</th>\n",
       "      <td>3668-QPYBK</td>\n",
       "      <td>Male</td>\n",
       "      <td>0</td>\n",
       "      <td>No</td>\n",
       "      <td>No</td>\n",
       "    </tr>\n",
       "    <tr>\n",
       "      <th>3</th>\n",
       "      <td>7795-CFOCW</td>\n",
       "      <td>Male</td>\n",
       "      <td>0</td>\n",
       "      <td>No</td>\n",
       "      <td>No</td>\n",
       "    </tr>\n",
       "    <tr>\n",
       "      <th>4</th>\n",
       "      <td>9237-HQITU</td>\n",
       "      <td>Female</td>\n",
       "      <td>0</td>\n",
       "      <td>No</td>\n",
       "      <td>No</td>\n",
       "    </tr>\n",
       "  </tbody>\n",
       "</table>\n",
       "</div>"
      ],
      "text/plain": [
       "   customerID  gender  SeniorCitizen Partner Dependents\n",
       "0  7590-VHVEG  Female              0     Yes         No\n",
       "1  5575-GNVDE    Male              0      No         No\n",
       "2  3668-QPYBK    Male              0      No         No\n",
       "3  7795-CFOCW    Male              0      No         No\n",
       "4  9237-HQITU  Female              0      No         No"
      ]
     },
     "execution_count": 11,
     "metadata": {},
     "output_type": "execute_result"
    }
   ],
   "source": [
    "# Visualizar\n",
    "user_personal_info.head()"
   ]
  },
  {
   "cell_type": "markdown",
   "metadata": {},
   "source": [
    "Los tipos de datos son correctos"
   ]
  },
  {
   "cell_type": "code",
   "execution_count": 12,
   "metadata": {},
   "outputs": [
    {
     "name": "stdout",
     "output_type": "stream",
     "text": [
      "Duplicados: \n",
      " customerID       0\n",
      "gender           0\n",
      "SeniorCitizen    0\n",
      "Partner          0\n",
      "Dependents       0\n",
      "dtype: int64 \n",
      "\n",
      "Ausentes: 0\n"
     ]
    }
   ],
   "source": [
    "# Verificar datos nulos o duplicados\n",
    "print('Duplicados:', '\\n', user_personal_info.isna().sum(), '\\n')\n",
    "print('Ausentes:', user_personal_info.duplicated().sum())"
   ]
  },
  {
   "cell_type": "markdown",
   "metadata": {},
   "source": [
    "No hay datos duplicados ni ausentes."
   ]
  },
  {
   "cell_type": "markdown",
   "metadata": {},
   "source": [
    "#### 3.1.3. Información sobre telefonía"
   ]
  },
  {
   "cell_type": "code",
   "execution_count": 13,
   "metadata": {},
   "outputs": [
    {
     "name": "stdout",
     "output_type": "stream",
     "text": [
      "<class 'pandas.core.frame.DataFrame'>\n",
      "RangeIndex: 6361 entries, 0 to 6360\n",
      "Data columns (total 2 columns):\n",
      " #   Column         Non-Null Count  Dtype \n",
      "---  ------         --------------  ----- \n",
      " 0   customerID     6361 non-null   object\n",
      " 1   MultipleLines  6361 non-null   object\n",
      "dtypes: object(2)\n",
      "memory usage: 99.5+ KB\n"
     ]
    }
   ],
   "source": [
    "# Visualizar\n",
    "phone_ser.info()"
   ]
  },
  {
   "cell_type": "code",
   "execution_count": 14,
   "metadata": {},
   "outputs": [
    {
     "data": {
      "text/html": [
       "<div>\n",
       "<style scoped>\n",
       "    .dataframe tbody tr th:only-of-type {\n",
       "        vertical-align: middle;\n",
       "    }\n",
       "\n",
       "    .dataframe tbody tr th {\n",
       "        vertical-align: top;\n",
       "    }\n",
       "\n",
       "    .dataframe thead th {\n",
       "        text-align: right;\n",
       "    }\n",
       "</style>\n",
       "<table border=\"1\" class=\"dataframe\">\n",
       "  <thead>\n",
       "    <tr style=\"text-align: right;\">\n",
       "      <th></th>\n",
       "      <th>customerID</th>\n",
       "      <th>MultipleLines</th>\n",
       "    </tr>\n",
       "  </thead>\n",
       "  <tbody>\n",
       "    <tr>\n",
       "      <th>0</th>\n",
       "      <td>5575-GNVDE</td>\n",
       "      <td>No</td>\n",
       "    </tr>\n",
       "    <tr>\n",
       "      <th>1</th>\n",
       "      <td>3668-QPYBK</td>\n",
       "      <td>No</td>\n",
       "    </tr>\n",
       "    <tr>\n",
       "      <th>2</th>\n",
       "      <td>9237-HQITU</td>\n",
       "      <td>No</td>\n",
       "    </tr>\n",
       "    <tr>\n",
       "      <th>3</th>\n",
       "      <td>9305-CDSKC</td>\n",
       "      <td>Yes</td>\n",
       "    </tr>\n",
       "    <tr>\n",
       "      <th>4</th>\n",
       "      <td>1452-KIOVK</td>\n",
       "      <td>Yes</td>\n",
       "    </tr>\n",
       "  </tbody>\n",
       "</table>\n",
       "</div>"
      ],
      "text/plain": [
       "   customerID MultipleLines\n",
       "0  5575-GNVDE            No\n",
       "1  3668-QPYBK            No\n",
       "2  9237-HQITU            No\n",
       "3  9305-CDSKC           Yes\n",
       "4  1452-KIOVK           Yes"
      ]
     },
     "execution_count": 14,
     "metadata": {},
     "output_type": "execute_result"
    }
   ],
   "source": [
    "# Visualizar\n",
    "phone_ser.head()"
   ]
  },
  {
   "cell_type": "markdown",
   "metadata": {},
   "source": [
    "Tipos de datos correctos"
   ]
  },
  {
   "cell_type": "code",
   "execution_count": 15,
   "metadata": {},
   "outputs": [
    {
     "name": "stdout",
     "output_type": "stream",
     "text": [
      "Ausentes: \n",
      " customerID       0\n",
      "MultipleLines    0\n",
      "dtype: int64 \n",
      "\n",
      "Duplicados: 0\n"
     ]
    }
   ],
   "source": [
    "# Ver duplicados y ausentes \n",
    "print('Ausentes:', '\\n', phone_ser.isna().sum(), '\\n')\n",
    "print('Duplicados:', phone_ser.duplicated().sum())"
   ]
  },
  {
   "cell_type": "markdown",
   "metadata": {},
   "source": [
    "No hay duplicados ni ausentes"
   ]
  },
  {
   "cell_type": "markdown",
   "metadata": {},
   "source": [
    "#### 3.1.4. Información sobre servicios de internet"
   ]
  },
  {
   "cell_type": "code",
   "execution_count": 16,
   "metadata": {},
   "outputs": [
    {
     "name": "stdout",
     "output_type": "stream",
     "text": [
      "<class 'pandas.core.frame.DataFrame'>\n",
      "RangeIndex: 5517 entries, 0 to 5516\n",
      "Data columns (total 8 columns):\n",
      " #   Column            Non-Null Count  Dtype \n",
      "---  ------            --------------  ----- \n",
      " 0   customerID        5517 non-null   object\n",
      " 1   InternetService   5517 non-null   object\n",
      " 2   OnlineSecurity    5517 non-null   object\n",
      " 3   OnlineBackup      5517 non-null   object\n",
      " 4   DeviceProtection  5517 non-null   object\n",
      " 5   TechSupport       5517 non-null   object\n",
      " 6   StreamingTV       5517 non-null   object\n",
      " 7   StreamingMovies   5517 non-null   object\n",
      "dtypes: object(8)\n",
      "memory usage: 344.9+ KB\n"
     ]
    }
   ],
   "source": [
    "# Visualizar \n",
    "internet_ser.info()"
   ]
  },
  {
   "cell_type": "code",
   "execution_count": 17,
   "metadata": {},
   "outputs": [
    {
     "data": {
      "text/html": [
       "<div>\n",
       "<style scoped>\n",
       "    .dataframe tbody tr th:only-of-type {\n",
       "        vertical-align: middle;\n",
       "    }\n",
       "\n",
       "    .dataframe tbody tr th {\n",
       "        vertical-align: top;\n",
       "    }\n",
       "\n",
       "    .dataframe thead th {\n",
       "        text-align: right;\n",
       "    }\n",
       "</style>\n",
       "<table border=\"1\" class=\"dataframe\">\n",
       "  <thead>\n",
       "    <tr style=\"text-align: right;\">\n",
       "      <th></th>\n",
       "      <th>customerID</th>\n",
       "      <th>InternetService</th>\n",
       "      <th>OnlineSecurity</th>\n",
       "      <th>OnlineBackup</th>\n",
       "      <th>DeviceProtection</th>\n",
       "      <th>TechSupport</th>\n",
       "      <th>StreamingTV</th>\n",
       "      <th>StreamingMovies</th>\n",
       "    </tr>\n",
       "  </thead>\n",
       "  <tbody>\n",
       "    <tr>\n",
       "      <th>0</th>\n",
       "      <td>7590-VHVEG</td>\n",
       "      <td>DSL</td>\n",
       "      <td>No</td>\n",
       "      <td>Yes</td>\n",
       "      <td>No</td>\n",
       "      <td>No</td>\n",
       "      <td>No</td>\n",
       "      <td>No</td>\n",
       "    </tr>\n",
       "    <tr>\n",
       "      <th>1</th>\n",
       "      <td>5575-GNVDE</td>\n",
       "      <td>DSL</td>\n",
       "      <td>Yes</td>\n",
       "      <td>No</td>\n",
       "      <td>Yes</td>\n",
       "      <td>No</td>\n",
       "      <td>No</td>\n",
       "      <td>No</td>\n",
       "    </tr>\n",
       "    <tr>\n",
       "      <th>2</th>\n",
       "      <td>3668-QPYBK</td>\n",
       "      <td>DSL</td>\n",
       "      <td>Yes</td>\n",
       "      <td>Yes</td>\n",
       "      <td>No</td>\n",
       "      <td>No</td>\n",
       "      <td>No</td>\n",
       "      <td>No</td>\n",
       "    </tr>\n",
       "    <tr>\n",
       "      <th>3</th>\n",
       "      <td>7795-CFOCW</td>\n",
       "      <td>DSL</td>\n",
       "      <td>Yes</td>\n",
       "      <td>No</td>\n",
       "      <td>Yes</td>\n",
       "      <td>Yes</td>\n",
       "      <td>No</td>\n",
       "      <td>No</td>\n",
       "    </tr>\n",
       "    <tr>\n",
       "      <th>4</th>\n",
       "      <td>9237-HQITU</td>\n",
       "      <td>Fiber optic</td>\n",
       "      <td>No</td>\n",
       "      <td>No</td>\n",
       "      <td>No</td>\n",
       "      <td>No</td>\n",
       "      <td>No</td>\n",
       "      <td>No</td>\n",
       "    </tr>\n",
       "  </tbody>\n",
       "</table>\n",
       "</div>"
      ],
      "text/plain": [
       "   customerID InternetService OnlineSecurity OnlineBackup DeviceProtection  \\\n",
       "0  7590-VHVEG             DSL             No          Yes               No   \n",
       "1  5575-GNVDE             DSL            Yes           No              Yes   \n",
       "2  3668-QPYBK             DSL            Yes          Yes               No   \n",
       "3  7795-CFOCW             DSL            Yes           No              Yes   \n",
       "4  9237-HQITU     Fiber optic             No           No               No   \n",
       "\n",
       "  TechSupport StreamingTV StreamingMovies  \n",
       "0          No          No              No  \n",
       "1          No          No              No  \n",
       "2          No          No              No  \n",
       "3         Yes          No              No  \n",
       "4          No          No              No  "
      ]
     },
     "execution_count": 17,
     "metadata": {},
     "output_type": "execute_result"
    }
   ],
   "source": [
    "# Visualizar\n",
    "internet_ser.head()"
   ]
  },
  {
   "cell_type": "markdown",
   "metadata": {},
   "source": [
    "Tipos de datos correctos"
   ]
  },
  {
   "cell_type": "code",
   "execution_count": 18,
   "metadata": {},
   "outputs": [
    {
     "name": "stdout",
     "output_type": "stream",
     "text": [
      "Ausentes: \n",
      " customerID          0\n",
      "InternetService     0\n",
      "OnlineSecurity      0\n",
      "OnlineBackup        0\n",
      "DeviceProtection    0\n",
      "TechSupport         0\n",
      "StreamingTV         0\n",
      "StreamingMovies     0\n",
      "dtype: int64 \n",
      "\n",
      "Duplicados: 0\n"
     ]
    }
   ],
   "source": [
    "# Ver duplicados y ausentes\n",
    "print('Ausentes:', '\\n', internet_ser.isna().sum(), '\\n')\n",
    "print('Duplicados:', internet_ser.duplicated().sum())"
   ]
  },
  {
   "cell_type": "markdown",
   "metadata": {},
   "source": [
    "No hay duplicados ni ausentes"
   ]
  },
  {
   "cell_type": "markdown",
   "metadata": {},
   "source": [
    "### 4. Funciones"
   ]
  },
  {
   "cell_type": "code",
   "execution_count": 19,
   "metadata": {},
   "outputs": [],
   "source": [
    "\"\"\" Funcion para agrupar por un servicio derivado de internet y contar las cancelaciones   \"\"\"   \n",
    "\n",
    "def group_service(full_data, column):\n",
    "    # Agrupar y contar los valores de 'Churn'\n",
    "    values = full_data.groupby(column)['Churn'].value_counts().reset_index(name='count')\n",
    "\n",
    "    # Conservar solo la clase negativa\n",
    "    data = values[values['Churn'] == 0].drop(['Churn'], axis=1).reset_index(drop=True)\n",
    "\n",
    "    if len(data) < 2:\n",
    "        raise ValueError(\"No hay suficientes datos para las clases 'yes' y 'no'.\")\n",
    "\n",
    "    # Asignar 'yes' y 'no' basados en la condición\n",
    "    yes = data.iloc[0]\n",
    "    no = data.iloc[1]\n",
    "\n",
    "    # Construir el DataFrame resultante\n",
    "    result_df = pd.DataFrame({'type': [column], 'yes': [yes['count']], 'no': [no['count']]})\n",
    "    return result_df\n"
   ]
  },
  {
   "cell_type": "code",
   "execution_count": 20,
   "metadata": {},
   "outputs": [],
   "source": [
    "\n",
    "\"\"\" Funcion para agrupar dos caracteristicas de info personal y contar contratos cancelados \"\"\"\n",
    "\n",
    "def group_two_features(full_data, column_1, column_2):\n",
    "    # Agrupar y contar los valores de 'Churn'\n",
    "    values = full_data.groupby([column_1, column_2])['Churn'].value_counts().unstack().fillna(0).reset_index()\n",
    "    \n",
    "    # Filtrar solo la clase negativa para ver contratos cancelados\n",
    "    churn_zero = values[values[0] > 0].copy()\n",
    "    \n",
    "    # Crear una lista para almacenar los resultados\n",
    "    results = []\n",
    "    \n",
    "    # Definir las combinaciones de condiciones\n",
    "    conditions = [\n",
    "        (1, 1),  # Ambos true\n",
    "        (1, 0),  # column_1 true, column_2 false\n",
    "        (0, 1),  # column_1 false, column_2 true\n",
    "        (0, 0)   # Ambos false\n",
    "    ]\n",
    "    \n",
    "    # Iterar sobre cada combinación de condiciones\n",
    "    for cond_1, cond_2 in conditions:\n",
    "        condition_label = f\"{column_1}={cond_1}, {column_2}={cond_2}\"\n",
    "        \n",
    "        # Filtrar los valores que cumplen la condición\n",
    "        subset = churn_zero[(churn_zero[column_1] == cond_1) & (churn_zero[column_2] == cond_2)]\n",
    "        \n",
    "        # Verificar si hay datos suficientes para la condición\n",
    "        if subset.empty:\n",
    "            continue\n",
    "        \n",
    "        # Construir la fila del DataFrame resultante\n",
    "        result = {\n",
    "            'condition': condition_label,\n",
    "            'count': subset[0].values[0]  # La cantidad de churn=0 en esta combinación\n",
    "        }\n",
    "        results.append(result)\n",
    "    \n",
    "    # Convertir los resultados a un DataFrame\n",
    "    result_data = pd.DataFrame(results)\n",
    "    \n",
    "    result_data = result_data.sort_values(by='count', ascending=False)\n",
    "    \n",
    "    return result_data"
   ]
  },
  {
   "cell_type": "code",
   "execution_count": 21,
   "metadata": {},
   "outputs": [],
   "source": [
    "\n",
    "\"\"\" Funcion para codificar caracteristicas categoricas  en conjunto de entrenamiento \"\"\"\n",
    "def encoder_train(train_data):\n",
    "    encoder = OrdinalEncoder()\n",
    "    data_encoded = pd.DataFrame(encoder.fit_transform(train_data), columns=train_data.columns)\n",
    "    data_encoded = data_encoded.astype('int')\n",
    "    return data_encoded\n",
    "    \n",
    "    \n",
    "    \n",
    "\"\"\" Funcion para codificar caracteristicas categoricas  en conjunto de prueba \"\"\"\n",
    "def encoder_test(train_data, test_data):\n",
    "    encoder = OrdinalEncoder()\n",
    "    encoder.fit(train_data)\n",
    "    data_test_encoded = pd.DataFrame(encoder.transform(test_data), columns=test_data.columns)\n",
    "    data_test_encoded = data_test_encoded.astype('int')\n",
    "    return data_test_encoded"
   ]
  },
  {
   "cell_type": "code",
   "execution_count": 22,
   "metadata": {},
   "outputs": [],
   "source": [
    "\"\"\" Funcion para escalar caracteristicas numericas en conjunto de entrenamiento \"\"\"\n",
    "def scaler_train(train_data):\n",
    "    scaler = StandardScaler()\n",
    "    data_scaled = pd.DataFrame(scaler.fit_transform(train_data), columns=train_data.columns)\n",
    "    return data_scaled\n",
    "\n",
    "\n",
    "\"\"\" Funcion para escalar caracteristicas numericas en conjunto de prueba \"\"\"\n",
    "def scaler_test(train_data, test_data):\n",
    "    scaler = StandardScaler()\n",
    "    scaler.fit(train_data)\n",
    "    data_test_scaled = pd.DataFrame(scaler.transform(test_data), columns=test_data.columns)\n",
    "    return data_test_scaled\n"
   ]
  },
  {
   "cell_type": "code",
   "execution_count": 23,
   "metadata": {},
   "outputs": [],
   "source": [
    "\"\"\" Funcion para evaluar los modelos con roc_auc y exactitud  \"\"\"\n",
    "\n",
    "def model_eval(model, train_target, train_features):\n",
    "    \n",
    "    # Hacer predicciones con el modelo\n",
    "    predictions = model.predict(train_features)\n",
    "    \n",
    "    # Predecir la probailidad de clase\n",
    "    class_proba = model.predict_proba(train_features)\n",
    "    \n",
    "    # Extraer solo las probabilidades de la clase positiva (clase 1)\n",
    "    class_proba_positive = class_proba[:, 1]\n",
    "    \n",
    "    # Evaluar el modelo con roc_auc\n",
    "    model_auc_roc_score = roc_auc_score(train_target, class_proba_positive)\n",
    "    \n",
    "    # Evaluar el modelo con accuracy\n",
    "    model_accuracy = accuracy_score(train_target, predictions)\n",
    "    \n",
    "    return model_auc_roc_score, model_accuracy\n"
   ]
  },
  {
   "cell_type": "markdown",
   "metadata": {},
   "source": [
    "### 5. Exploración de datos (EDA)"
   ]
  },
  {
   "cell_type": "markdown",
   "metadata": {},
   "source": [
    "#### 5.1. Concatenación de  toda la información"
   ]
  },
  {
   "cell_type": "code",
   "execution_count": 24,
   "metadata": {},
   "outputs": [],
   "source": [
    "# Concatenar los datsets de contratos y servicios de internet\n",
    "merge_1 = user_contract.merge(internet_ser, on='customerID', how='left')"
   ]
  },
  {
   "cell_type": "code",
   "execution_count": 25,
   "metadata": {},
   "outputs": [
    {
     "name": "stdout",
     "output_type": "stream",
     "text": [
      "Ausentes: \n",
      " customerID             0\n",
      "BeginDate              0\n",
      "EndDate                0\n",
      "Type                   0\n",
      "PaperlessBilling       0\n",
      "PaymentMethod          0\n",
      "MonthlyCharges         0\n",
      "TotalCharges           0\n",
      "InternetService     1520\n",
      "OnlineSecurity      1520\n",
      "OnlineBackup        1520\n",
      "DeviceProtection    1520\n",
      "TechSupport         1520\n",
      "StreamingTV         1520\n",
      "StreamingMovies     1520\n",
      "dtype: int64 \n",
      "\n",
      "Duplicados: 0\n"
     ]
    }
   ],
   "source": [
    "# Comprobar valores ausentes y duplicados\n",
    "print('Ausentes:', '\\n', merge_1.isna().sum(), '\\n')\n",
    "print('Duplicados:', merge_1.duplicated().sum())"
   ]
  },
  {
   "cell_type": "markdown",
   "metadata": {},
   "source": [
    "Al realizar la concatenación, han surgido datos ausentes respecto a los servicios derivados de internet. \n",
    "Voy a suponer inicialmente que los valores ausentes corresponden a clientes que no pagan por tales servicios y por lo tanto, rellenare los faltantes con la palabra 'No', es decir; no tienen servicio de internet. "
   ]
  },
  {
   "cell_type": "code",
   "execution_count": 26,
   "metadata": {},
   "outputs": [
    {
     "data": {
      "text/plain": [
       "customerID          0\n",
       "BeginDate           0\n",
       "EndDate             0\n",
       "Type                0\n",
       "PaperlessBilling    0\n",
       "PaymentMethod       0\n",
       "MonthlyCharges      0\n",
       "TotalCharges        0\n",
       "InternetService     0\n",
       "OnlineSecurity      0\n",
       "OnlineBackup        0\n",
       "DeviceProtection    0\n",
       "TechSupport         0\n",
       "StreamingTV         0\n",
       "StreamingMovies     0\n",
       "dtype: int64"
      ]
     },
     "execution_count": 26,
     "metadata": {},
     "output_type": "execute_result"
    }
   ],
   "source": [
    "# Rellenar ausentes con 'No'\n",
    "merge_1 = merge_1.fillna('No')\n",
    "\n",
    "# Comprobar datos ausentes \n",
    "merge_1.isna().sum()"
   ]
  },
  {
   "cell_type": "code",
   "execution_count": 27,
   "metadata": {},
   "outputs": [],
   "source": [
    "# Concatenar merge_1 con la informacion personal\n",
    "merge_2 = merge_1.merge(user_personal_info, on='customerID', how='left')"
   ]
  },
  {
   "cell_type": "code",
   "execution_count": 28,
   "metadata": {},
   "outputs": [
    {
     "name": "stdout",
     "output_type": "stream",
     "text": [
      "Ausentes: \n",
      " customerID          0\n",
      "BeginDate           0\n",
      "EndDate             0\n",
      "Type                0\n",
      "PaperlessBilling    0\n",
      "PaymentMethod       0\n",
      "MonthlyCharges      0\n",
      "TotalCharges        0\n",
      "InternetService     0\n",
      "OnlineSecurity      0\n",
      "OnlineBackup        0\n",
      "DeviceProtection    0\n",
      "TechSupport         0\n",
      "StreamingTV         0\n",
      "StreamingMovies     0\n",
      "gender              0\n",
      "SeniorCitizen       0\n",
      "Partner             0\n",
      "Dependents          0\n",
      "dtype: int64 \n",
      "\n",
      "Duplicados: 0\n"
     ]
    }
   ],
   "source": [
    "# Comprobar datos ausentes y duplicados\n",
    "print('Ausentes:', '\\n', merge_2.isna().sum(), '\\n')\n",
    "print('Duplicados:', merge_2.duplicated().sum())"
   ]
  },
  {
   "cell_type": "code",
   "execution_count": 29,
   "metadata": {},
   "outputs": [],
   "source": [
    "# Concatenar merge_2 con la informacion de telefonia\n",
    "full_data = merge_2.merge(phone_ser,  on='customerID', how='left')"
   ]
  },
  {
   "cell_type": "code",
   "execution_count": 30,
   "metadata": {},
   "outputs": [
    {
     "name": "stdout",
     "output_type": "stream",
     "text": [
      "Ausentes: \n",
      " customerID            0\n",
      "BeginDate             0\n",
      "EndDate               0\n",
      "Type                  0\n",
      "PaperlessBilling      0\n",
      "PaymentMethod         0\n",
      "MonthlyCharges        0\n",
      "TotalCharges          0\n",
      "InternetService       0\n",
      "OnlineSecurity        0\n",
      "OnlineBackup          0\n",
      "DeviceProtection      0\n",
      "TechSupport           0\n",
      "StreamingTV           0\n",
      "StreamingMovies       0\n",
      "gender                0\n",
      "SeniorCitizen         0\n",
      "Partner               0\n",
      "Dependents            0\n",
      "MultipleLines       680\n",
      "dtype: int64 \n",
      "\n",
      "Duplicados: 0\n"
     ]
    }
   ],
   "source": [
    "# Comprobar valores ausentes y duplicados\n",
    "print('Ausentes:', '\\n', full_data.isna().sum(), '\\n')\n",
    "print('Duplicados:', full_data.duplicated().sum())"
   ]
  },
  {
   "cell_type": "markdown",
   "metadata": {},
   "source": [
    "Al realizar la concatenación, han surgido datos ausentes respecto a la información de lineas multiples. \n",
    "Voy a suponer inicialmente que los valores ausentes corresponden a clientes que no tienen este servicio de telefonía y por lo tanto, rellenare los faltantes con la palabra 'No', es decir; no tienen multiples lineas. "
   ]
  },
  {
   "cell_type": "code",
   "execution_count": 31,
   "metadata": {},
   "outputs": [
    {
     "data": {
      "text/plain": [
       "customerID          0\n",
       "BeginDate           0\n",
       "EndDate             0\n",
       "Type                0\n",
       "PaperlessBilling    0\n",
       "PaymentMethod       0\n",
       "MonthlyCharges      0\n",
       "TotalCharges        0\n",
       "InternetService     0\n",
       "OnlineSecurity      0\n",
       "OnlineBackup        0\n",
       "DeviceProtection    0\n",
       "TechSupport         0\n",
       "StreamingTV         0\n",
       "StreamingMovies     0\n",
       "gender              0\n",
       "SeniorCitizen       0\n",
       "Partner             0\n",
       "Dependents          0\n",
       "MultipleLines       0\n",
       "dtype: int64"
      ]
     },
     "execution_count": 31,
     "metadata": {},
     "output_type": "execute_result"
    }
   ],
   "source": [
    "# Rellenar ausentes con 'No'\n",
    "full_data = full_data.fillna('No')\n",
    "\n",
    "# Comprobar valores ausentes \n",
    "full_data.isna().sum()"
   ]
  },
  {
   "cell_type": "code",
   "execution_count": 32,
   "metadata": {},
   "outputs": [
    {
     "name": "stdout",
     "output_type": "stream",
     "text": [
      "<class 'pandas.core.frame.DataFrame'>\n",
      "RangeIndex: 7032 entries, 0 to 7031\n",
      "Data columns (total 20 columns):\n",
      " #   Column            Non-Null Count  Dtype         \n",
      "---  ------            --------------  -----         \n",
      " 0   customerID        7032 non-null   object        \n",
      " 1   BeginDate         7032 non-null   datetime64[ns]\n",
      " 2   EndDate           7032 non-null   object        \n",
      " 3   Type              7032 non-null   object        \n",
      " 4   PaperlessBilling  7032 non-null   object        \n",
      " 5   PaymentMethod     7032 non-null   object        \n",
      " 6   MonthlyCharges    7032 non-null   float64       \n",
      " 7   TotalCharges      7032 non-null   float64       \n",
      " 8   InternetService   7032 non-null   object        \n",
      " 9   OnlineSecurity    7032 non-null   object        \n",
      " 10  OnlineBackup      7032 non-null   object        \n",
      " 11  DeviceProtection  7032 non-null   object        \n",
      " 12  TechSupport       7032 non-null   object        \n",
      " 13  StreamingTV       7032 non-null   object        \n",
      " 14  StreamingMovies   7032 non-null   object        \n",
      " 15  gender            7032 non-null   object        \n",
      " 16  SeniorCitizen     7032 non-null   int64         \n",
      " 17  Partner           7032 non-null   object        \n",
      " 18  Dependents        7032 non-null   object        \n",
      " 19  MultipleLines     7032 non-null   object        \n",
      "dtypes: datetime64[ns](1), float64(2), int64(1), object(16)\n",
      "memory usage: 1.1+ MB\n"
     ]
    }
   ],
   "source": [
    "# Visualizar el nuevo dataset completo\n",
    "full_data.info()"
   ]
  },
  {
   "cell_type": "code",
   "execution_count": 33,
   "metadata": {},
   "outputs": [
    {
     "data": {
      "text/html": [
       "<div>\n",
       "<style scoped>\n",
       "    .dataframe tbody tr th:only-of-type {\n",
       "        vertical-align: middle;\n",
       "    }\n",
       "\n",
       "    .dataframe tbody tr th {\n",
       "        vertical-align: top;\n",
       "    }\n",
       "\n",
       "    .dataframe thead th {\n",
       "        text-align: right;\n",
       "    }\n",
       "</style>\n",
       "<table border=\"1\" class=\"dataframe\">\n",
       "  <thead>\n",
       "    <tr style=\"text-align: right;\">\n",
       "      <th></th>\n",
       "      <th>customerID</th>\n",
       "      <th>BeginDate</th>\n",
       "      <th>EndDate</th>\n",
       "      <th>Type</th>\n",
       "      <th>PaperlessBilling</th>\n",
       "      <th>PaymentMethod</th>\n",
       "      <th>MonthlyCharges</th>\n",
       "      <th>TotalCharges</th>\n",
       "      <th>InternetService</th>\n",
       "      <th>OnlineSecurity</th>\n",
       "      <th>OnlineBackup</th>\n",
       "      <th>DeviceProtection</th>\n",
       "      <th>TechSupport</th>\n",
       "      <th>StreamingTV</th>\n",
       "      <th>StreamingMovies</th>\n",
       "      <th>gender</th>\n",
       "      <th>SeniorCitizen</th>\n",
       "      <th>Partner</th>\n",
       "      <th>Dependents</th>\n",
       "      <th>MultipleLines</th>\n",
       "    </tr>\n",
       "  </thead>\n",
       "  <tbody>\n",
       "    <tr>\n",
       "      <th>0</th>\n",
       "      <td>7590-VHVEG</td>\n",
       "      <td>2020-01-01</td>\n",
       "      <td>No</td>\n",
       "      <td>Month-to-month</td>\n",
       "      <td>Yes</td>\n",
       "      <td>Electronic check</td>\n",
       "      <td>29.85</td>\n",
       "      <td>29.85</td>\n",
       "      <td>DSL</td>\n",
       "      <td>No</td>\n",
       "      <td>Yes</td>\n",
       "      <td>No</td>\n",
       "      <td>No</td>\n",
       "      <td>No</td>\n",
       "      <td>No</td>\n",
       "      <td>Female</td>\n",
       "      <td>0</td>\n",
       "      <td>Yes</td>\n",
       "      <td>No</td>\n",
       "      <td>No</td>\n",
       "    </tr>\n",
       "    <tr>\n",
       "      <th>1</th>\n",
       "      <td>5575-GNVDE</td>\n",
       "      <td>2017-04-01</td>\n",
       "      <td>No</td>\n",
       "      <td>One year</td>\n",
       "      <td>No</td>\n",
       "      <td>Mailed check</td>\n",
       "      <td>56.95</td>\n",
       "      <td>1889.50</td>\n",
       "      <td>DSL</td>\n",
       "      <td>Yes</td>\n",
       "      <td>No</td>\n",
       "      <td>Yes</td>\n",
       "      <td>No</td>\n",
       "      <td>No</td>\n",
       "      <td>No</td>\n",
       "      <td>Male</td>\n",
       "      <td>0</td>\n",
       "      <td>No</td>\n",
       "      <td>No</td>\n",
       "      <td>No</td>\n",
       "    </tr>\n",
       "    <tr>\n",
       "      <th>2</th>\n",
       "      <td>3668-QPYBK</td>\n",
       "      <td>2019-10-01</td>\n",
       "      <td>2019-12-01 00:00:00</td>\n",
       "      <td>Month-to-month</td>\n",
       "      <td>Yes</td>\n",
       "      <td>Mailed check</td>\n",
       "      <td>53.85</td>\n",
       "      <td>108.15</td>\n",
       "      <td>DSL</td>\n",
       "      <td>Yes</td>\n",
       "      <td>Yes</td>\n",
       "      <td>No</td>\n",
       "      <td>No</td>\n",
       "      <td>No</td>\n",
       "      <td>No</td>\n",
       "      <td>Male</td>\n",
       "      <td>0</td>\n",
       "      <td>No</td>\n",
       "      <td>No</td>\n",
       "      <td>No</td>\n",
       "    </tr>\n",
       "    <tr>\n",
       "      <th>3</th>\n",
       "      <td>7795-CFOCW</td>\n",
       "      <td>2016-05-01</td>\n",
       "      <td>No</td>\n",
       "      <td>One year</td>\n",
       "      <td>No</td>\n",
       "      <td>Bank transfer (automatic)</td>\n",
       "      <td>42.30</td>\n",
       "      <td>1840.75</td>\n",
       "      <td>DSL</td>\n",
       "      <td>Yes</td>\n",
       "      <td>No</td>\n",
       "      <td>Yes</td>\n",
       "      <td>Yes</td>\n",
       "      <td>No</td>\n",
       "      <td>No</td>\n",
       "      <td>Male</td>\n",
       "      <td>0</td>\n",
       "      <td>No</td>\n",
       "      <td>No</td>\n",
       "      <td>No</td>\n",
       "    </tr>\n",
       "    <tr>\n",
       "      <th>4</th>\n",
       "      <td>9237-HQITU</td>\n",
       "      <td>2019-09-01</td>\n",
       "      <td>2019-11-01 00:00:00</td>\n",
       "      <td>Month-to-month</td>\n",
       "      <td>Yes</td>\n",
       "      <td>Electronic check</td>\n",
       "      <td>70.70</td>\n",
       "      <td>151.65</td>\n",
       "      <td>Fiber optic</td>\n",
       "      <td>No</td>\n",
       "      <td>No</td>\n",
       "      <td>No</td>\n",
       "      <td>No</td>\n",
       "      <td>No</td>\n",
       "      <td>No</td>\n",
       "      <td>Female</td>\n",
       "      <td>0</td>\n",
       "      <td>No</td>\n",
       "      <td>No</td>\n",
       "      <td>No</td>\n",
       "    </tr>\n",
       "  </tbody>\n",
       "</table>\n",
       "</div>"
      ],
      "text/plain": [
       "   customerID  BeginDate              EndDate            Type  \\\n",
       "0  7590-VHVEG 2020-01-01                   No  Month-to-month   \n",
       "1  5575-GNVDE 2017-04-01                   No        One year   \n",
       "2  3668-QPYBK 2019-10-01  2019-12-01 00:00:00  Month-to-month   \n",
       "3  7795-CFOCW 2016-05-01                   No        One year   \n",
       "4  9237-HQITU 2019-09-01  2019-11-01 00:00:00  Month-to-month   \n",
       "\n",
       "  PaperlessBilling              PaymentMethod  MonthlyCharges  TotalCharges  \\\n",
       "0              Yes           Electronic check           29.85         29.85   \n",
       "1               No               Mailed check           56.95       1889.50   \n",
       "2              Yes               Mailed check           53.85        108.15   \n",
       "3               No  Bank transfer (automatic)           42.30       1840.75   \n",
       "4              Yes           Electronic check           70.70        151.65   \n",
       "\n",
       "  InternetService OnlineSecurity OnlineBackup DeviceProtection TechSupport  \\\n",
       "0             DSL             No          Yes               No          No   \n",
       "1             DSL            Yes           No              Yes          No   \n",
       "2             DSL            Yes          Yes               No          No   \n",
       "3             DSL            Yes           No              Yes         Yes   \n",
       "4     Fiber optic             No           No               No          No   \n",
       "\n",
       "  StreamingTV StreamingMovies  gender  SeniorCitizen Partner Dependents  \\\n",
       "0          No              No  Female              0     Yes         No   \n",
       "1          No              No    Male              0      No         No   \n",
       "2          No              No    Male              0      No         No   \n",
       "3          No              No    Male              0      No         No   \n",
       "4          No              No  Female              0      No         No   \n",
       "\n",
       "  MultipleLines  \n",
       "0            No  \n",
       "1            No  \n",
       "2            No  \n",
       "3            No  \n",
       "4            No  "
      ]
     },
     "execution_count": 33,
     "metadata": {},
     "output_type": "execute_result"
    }
   ],
   "source": [
    "# Visualizar el nuevo dataset completo\n",
    "full_data.head()"
   ]
  },
  {
   "cell_type": "markdown",
   "metadata": {},
   "source": [
    "Con toda la información sobre los clientes reunida en un solo conjunto de datos, crearé un nueva columna llamada 'Churn' para ver la cancelacion de contratos, donde '1' será para contratos vigentes y '0' para contratos terminados."
   ]
  },
  {
   "cell_type": "code",
   "execution_count": 34,
   "metadata": {},
   "outputs": [],
   "source": [
    "# Crear una variable Churn \n",
    "full_data['Churn'] = full_data['EndDate']\n",
    "\n",
    "# Convertir los 'No' en 'EndDate' a 1 y las fechas a 0 \n",
    "full_data['Churn'] = full_data['Churn'].replace('No', '1').apply(lambda x: 1 if x == '1' else 0)"
   ]
  },
  {
   "cell_type": "code",
   "execution_count": 35,
   "metadata": {},
   "outputs": [
    {
     "data": {
      "text/html": [
       "<div>\n",
       "<style scoped>\n",
       "    .dataframe tbody tr th:only-of-type {\n",
       "        vertical-align: middle;\n",
       "    }\n",
       "\n",
       "    .dataframe tbody tr th {\n",
       "        vertical-align: top;\n",
       "    }\n",
       "\n",
       "    .dataframe thead th {\n",
       "        text-align: right;\n",
       "    }\n",
       "</style>\n",
       "<table border=\"1\" class=\"dataframe\">\n",
       "  <thead>\n",
       "    <tr style=\"text-align: right;\">\n",
       "      <th></th>\n",
       "      <th>customerID</th>\n",
       "      <th>BeginDate</th>\n",
       "      <th>EndDate</th>\n",
       "      <th>Type</th>\n",
       "      <th>PaperlessBilling</th>\n",
       "      <th>PaymentMethod</th>\n",
       "      <th>MonthlyCharges</th>\n",
       "      <th>TotalCharges</th>\n",
       "      <th>InternetService</th>\n",
       "      <th>OnlineSecurity</th>\n",
       "      <th>...</th>\n",
       "      <th>DeviceProtection</th>\n",
       "      <th>TechSupport</th>\n",
       "      <th>StreamingTV</th>\n",
       "      <th>StreamingMovies</th>\n",
       "      <th>gender</th>\n",
       "      <th>SeniorCitizen</th>\n",
       "      <th>Partner</th>\n",
       "      <th>Dependents</th>\n",
       "      <th>MultipleLines</th>\n",
       "      <th>Churn</th>\n",
       "    </tr>\n",
       "  </thead>\n",
       "  <tbody>\n",
       "    <tr>\n",
       "      <th>0</th>\n",
       "      <td>7590-VHVEG</td>\n",
       "      <td>2020-01-01</td>\n",
       "      <td>No</td>\n",
       "      <td>Month-to-month</td>\n",
       "      <td>Yes</td>\n",
       "      <td>Electronic check</td>\n",
       "      <td>29.85</td>\n",
       "      <td>29.85</td>\n",
       "      <td>DSL</td>\n",
       "      <td>No</td>\n",
       "      <td>...</td>\n",
       "      <td>No</td>\n",
       "      <td>No</td>\n",
       "      <td>No</td>\n",
       "      <td>No</td>\n",
       "      <td>Female</td>\n",
       "      <td>0</td>\n",
       "      <td>Yes</td>\n",
       "      <td>No</td>\n",
       "      <td>No</td>\n",
       "      <td>1</td>\n",
       "    </tr>\n",
       "    <tr>\n",
       "      <th>1</th>\n",
       "      <td>5575-GNVDE</td>\n",
       "      <td>2017-04-01</td>\n",
       "      <td>No</td>\n",
       "      <td>One year</td>\n",
       "      <td>No</td>\n",
       "      <td>Mailed check</td>\n",
       "      <td>56.95</td>\n",
       "      <td>1889.50</td>\n",
       "      <td>DSL</td>\n",
       "      <td>Yes</td>\n",
       "      <td>...</td>\n",
       "      <td>Yes</td>\n",
       "      <td>No</td>\n",
       "      <td>No</td>\n",
       "      <td>No</td>\n",
       "      <td>Male</td>\n",
       "      <td>0</td>\n",
       "      <td>No</td>\n",
       "      <td>No</td>\n",
       "      <td>No</td>\n",
       "      <td>1</td>\n",
       "    </tr>\n",
       "    <tr>\n",
       "      <th>2</th>\n",
       "      <td>3668-QPYBK</td>\n",
       "      <td>2019-10-01</td>\n",
       "      <td>2019-12-01 00:00:00</td>\n",
       "      <td>Month-to-month</td>\n",
       "      <td>Yes</td>\n",
       "      <td>Mailed check</td>\n",
       "      <td>53.85</td>\n",
       "      <td>108.15</td>\n",
       "      <td>DSL</td>\n",
       "      <td>Yes</td>\n",
       "      <td>...</td>\n",
       "      <td>No</td>\n",
       "      <td>No</td>\n",
       "      <td>No</td>\n",
       "      <td>No</td>\n",
       "      <td>Male</td>\n",
       "      <td>0</td>\n",
       "      <td>No</td>\n",
       "      <td>No</td>\n",
       "      <td>No</td>\n",
       "      <td>0</td>\n",
       "    </tr>\n",
       "    <tr>\n",
       "      <th>3</th>\n",
       "      <td>7795-CFOCW</td>\n",
       "      <td>2016-05-01</td>\n",
       "      <td>No</td>\n",
       "      <td>One year</td>\n",
       "      <td>No</td>\n",
       "      <td>Bank transfer (automatic)</td>\n",
       "      <td>42.30</td>\n",
       "      <td>1840.75</td>\n",
       "      <td>DSL</td>\n",
       "      <td>Yes</td>\n",
       "      <td>...</td>\n",
       "      <td>Yes</td>\n",
       "      <td>Yes</td>\n",
       "      <td>No</td>\n",
       "      <td>No</td>\n",
       "      <td>Male</td>\n",
       "      <td>0</td>\n",
       "      <td>No</td>\n",
       "      <td>No</td>\n",
       "      <td>No</td>\n",
       "      <td>1</td>\n",
       "    </tr>\n",
       "    <tr>\n",
       "      <th>4</th>\n",
       "      <td>9237-HQITU</td>\n",
       "      <td>2019-09-01</td>\n",
       "      <td>2019-11-01 00:00:00</td>\n",
       "      <td>Month-to-month</td>\n",
       "      <td>Yes</td>\n",
       "      <td>Electronic check</td>\n",
       "      <td>70.70</td>\n",
       "      <td>151.65</td>\n",
       "      <td>Fiber optic</td>\n",
       "      <td>No</td>\n",
       "      <td>...</td>\n",
       "      <td>No</td>\n",
       "      <td>No</td>\n",
       "      <td>No</td>\n",
       "      <td>No</td>\n",
       "      <td>Female</td>\n",
       "      <td>0</td>\n",
       "      <td>No</td>\n",
       "      <td>No</td>\n",
       "      <td>No</td>\n",
       "      <td>0</td>\n",
       "    </tr>\n",
       "  </tbody>\n",
       "</table>\n",
       "<p>5 rows × 21 columns</p>\n",
       "</div>"
      ],
      "text/plain": [
       "   customerID  BeginDate              EndDate            Type  \\\n",
       "0  7590-VHVEG 2020-01-01                   No  Month-to-month   \n",
       "1  5575-GNVDE 2017-04-01                   No        One year   \n",
       "2  3668-QPYBK 2019-10-01  2019-12-01 00:00:00  Month-to-month   \n",
       "3  7795-CFOCW 2016-05-01                   No        One year   \n",
       "4  9237-HQITU 2019-09-01  2019-11-01 00:00:00  Month-to-month   \n",
       "\n",
       "  PaperlessBilling              PaymentMethod  MonthlyCharges  TotalCharges  \\\n",
       "0              Yes           Electronic check           29.85         29.85   \n",
       "1               No               Mailed check           56.95       1889.50   \n",
       "2              Yes               Mailed check           53.85        108.15   \n",
       "3               No  Bank transfer (automatic)           42.30       1840.75   \n",
       "4              Yes           Electronic check           70.70        151.65   \n",
       "\n",
       "  InternetService OnlineSecurity  ... DeviceProtection TechSupport  \\\n",
       "0             DSL             No  ...               No          No   \n",
       "1             DSL            Yes  ...              Yes          No   \n",
       "2             DSL            Yes  ...               No          No   \n",
       "3             DSL            Yes  ...              Yes         Yes   \n",
       "4     Fiber optic             No  ...               No          No   \n",
       "\n",
       "  StreamingTV StreamingMovies  gender SeniorCitizen  Partner Dependents  \\\n",
       "0          No              No  Female             0      Yes         No   \n",
       "1          No              No    Male             0       No         No   \n",
       "2          No              No    Male             0       No         No   \n",
       "3          No              No    Male             0       No         No   \n",
       "4          No              No  Female             0       No         No   \n",
       "\n",
       "  MultipleLines Churn  \n",
       "0            No     1  \n",
       "1            No     1  \n",
       "2            No     0  \n",
       "3            No     1  \n",
       "4            No     0  \n",
       "\n",
       "[5 rows x 21 columns]"
      ]
     },
     "execution_count": 35,
     "metadata": {},
     "output_type": "execute_result"
    }
   ],
   "source": [
    "# Visualizar el df completo con la nueva variable 'Churn'\n",
    "full_data.head()"
   ]
  },
  {
   "cell_type": "markdown",
   "metadata": {},
   "source": [
    "#### 5.2. Desequilibrio de clases"
   ]
  },
  {
   "cell_type": "code",
   "execution_count": 36,
   "metadata": {},
   "outputs": [
    {
     "data": {
      "text/plain": [
       "Churn\n",
       "1    5163\n",
       "0    1869\n",
       "Name: count, dtype: int64"
      ]
     },
     "execution_count": 36,
     "metadata": {},
     "output_type": "execute_result"
    }
   ],
   "source": [
    "# Evaluar el desequilibrio de clases en 'Churn'\n",
    "full_data['Churn'].value_counts()"
   ]
  },
  {
   "cell_type": "markdown",
   "metadata": {},
   "source": [
    "Se observa un fuerte desequilibrio entre las clases positiva y negativa."
   ]
  },
  {
   "cell_type": "markdown",
   "metadata": {},
   "source": [
    "#### 5.3. Fechas \n",
    "#### 5.3.1. Fechas de registro de contratos "
   ]
  },
  {
   "cell_type": "code",
   "execution_count": 37,
   "metadata": {},
   "outputs": [
    {
     "name": "stdout",
     "output_type": "stream",
     "text": [
      "Primera fecha registrada: 2013-10-01 00:00:00\n",
      "Ultima fecha registrada: 2020-01-01 00:00:00\n"
     ]
    }
   ],
   "source": [
    "# Evaluar las primera y ultima fecha registradas \n",
    "print('Primera fecha registrada:', full_data['BeginDate'].sort_values().min())\n",
    "print('Ultima fecha registrada:', full_data['BeginDate'].sort_values().max())\n"
   ]
  },
  {
   "cell_type": "markdown",
   "metadata": {},
   "source": [
    "Disponemos de información de contratos registrados desde el primero de octubre del año 2013 hasta el primero de enero del 2020."
   ]
  },
  {
   "cell_type": "markdown",
   "metadata": {},
   "source": [
    "#### 5.3.2. Fechas de cancelación de contratos"
   ]
  },
  {
   "cell_type": "code",
   "execution_count": 38,
   "metadata": {},
   "outputs": [
    {
     "name": "stdout",
     "output_type": "stream",
     "text": [
      "Primera fecha de cancelación: 2019-10-01 00:00:00\n",
      "Ultima fecha de cancelación registrada: 2020-01-01 00:00:00\n"
     ]
    }
   ],
   "source": [
    "# Filtrar el df por contratos cancelados\n",
    "churn_contracts = full_data[full_data['Churn']==0]\n",
    "\n",
    "# Evaluar las fechas de las cancelaciones \n",
    "print('Primera fecha de cancelación:', churn_contracts['EndDate'].min())\n",
    "print('Ultima fecha de cancelación registrada:', churn_contracts['EndDate'].max())"
   ]
  },
  {
   "cell_type": "code",
   "execution_count": 39,
   "metadata": {},
   "outputs": [
    {
     "data": {
      "text/plain": [
       "BeginDate   EndDate              Churn\n",
       "2019-12-01  2020-01-01 00:00:00  0        105\n",
       "2019-11-01  2019-12-01 00:00:00  0         99\n",
       "2019-10-01  2019-11-01 00:00:00  0         93\n",
       "2019-09-01  2019-10-01 00:00:00  0         83\n",
       "            2019-11-01 00:00:00  0         33\n",
       "2019-11-01  2020-01-01 00:00:00  0         32\n",
       "2019-09-01  2019-12-01 00:00:00  0         31\n",
       "2019-10-01  2019-12-01 00:00:00  0         29\n",
       "2019-08-01  2019-10-01 00:00:00  0         29\n",
       "2019-07-01  2019-11-01 00:00:00  0         25\n",
       "            2019-12-01 00:00:00  0         22\n",
       "2019-10-01  2020-01-01 00:00:00  0         22\n",
       "2019-09-01  2020-01-01 00:00:00  0         21\n",
       "2019-08-01  2019-11-01 00:00:00  0         21\n",
       "2019-06-01  2019-11-01 00:00:00  0         20\n",
       "2019-07-01  2019-10-01 00:00:00  0         20\n",
       "2019-06-01  2019-10-01 00:00:00  0         19\n",
       "2019-08-01  2019-12-01 00:00:00  0         18\n",
       "2019-02-01  2019-11-01 00:00:00  0         17\n",
       "2019-05-01  2019-11-01 00:00:00  0         17\n",
       "Name: count, dtype: int64"
      ]
     },
     "execution_count": 39,
     "metadata": {},
     "output_type": "execute_result"
    }
   ],
   "source": [
    "# Agrupar por fecha de incio y fecha de cancelacion\n",
    "# Contar las cancelaciones\n",
    "churn_dates = churn_contracts.groupby(['BeginDate', 'EndDate'])['Churn'].value_counts().sort_values(ascending=False)\n",
    "\n",
    "churn_dates.head(20)"
   ]
  },
  {
   "cell_type": "markdown",
   "metadata": {},
   "source": [
    "Los contratos se han venido cancelando desde el primero de octubre del año 2019 hasta el primero de enero del 2020 (ultima fecha de registro de nuestro conjunto de datos). Significa que todas la cancelaciones se han hecho en los ultimos tres meses del conjunto de datos y analizando las fechas de incio, se puede ver que los clientes mas recientes son quienes más cancelan, con contratos que pueden durar hasta 1 solo mes. Quizás, en los ultimos meses hubo aumento de las tarifas en los servicios, pero lo analizaré más adelante al evaluar las tarifas."
   ]
  },
  {
   "cell_type": "markdown",
   "metadata": {},
   "source": [
    "#### 5.4. Tarifas "
   ]
  },
  {
   "cell_type": "code",
   "execution_count": 40,
   "metadata": {},
   "outputs": [],
   "source": [
    "# Extraer el año de registro los contratos y agregarlo al full_data\n",
    "full_data['BeginYear'] = full_data['BeginDate'].dt.year"
   ]
  },
  {
   "cell_type": "markdown",
   "metadata": {},
   "source": [
    "#### 5.4.1. Montos mensuales"
   ]
  },
  {
   "cell_type": "markdown",
   "metadata": {},
   "source": [
    "#### 5.4.1.1 Promedio de montos mensuales por año"
   ]
  },
  {
   "cell_type": "code",
   "execution_count": 41,
   "metadata": {},
   "outputs": [],
   "source": [
    "# Agrupar por año\n",
    "# # Calcular el promedio de los montos mensuales\n",
    "year_monthly_mean = full_data.groupby(['BeginYear'])['MonthlyCharges'].mean().reset_index(name='mean')"
   ]
  },
  {
   "cell_type": "code",
   "execution_count": 42,
   "metadata": {},
   "outputs": [
    {
     "data": {
      "image/png": "[encoded data removed]",
      "text/plain": [
       "<Figure size 640x480 with 1 Axes>"
      ]
     },
     "metadata": {},
     "output_type": "display_data"
    }
   ],
   "source": [
    "# Crear un grafico para visualizar el promedio de montos mensuales\n",
    "ax_year_monthly_mean = year_monthly_mean['mean'].plot(kind='bar', edgecolor='black')\n",
    "\n",
    "# Cambiar las etiquetas en eje x\n",
    "ax_year_monthly_mean.set_xticklabels(year_monthly_mean['BeginYear'], rotation=45)\n",
    "\n",
    "# Agregar título y etiquetas\n",
    "plt.title('Promedio de pagos mensuales por año')\n",
    "plt.xlabel('Año de registro')\n",
    "plt.ylabel('Promedio')\n",
    "\n",
    "plt.show()\n"
   ]
  },
  {
   "cell_type": "markdown",
   "metadata": {},
   "source": [
    "Por lo que se observa, el promedio de montos mensuales disminuye progresivamente a través de los años."
   ]
  },
  {
   "cell_type": "markdown",
   "metadata": {},
   "source": [
    "#### 5.4.1.2 Promedio de montos mensuales por tipo de contrato"
   ]
  },
  {
   "cell_type": "code",
   "execution_count": 43,
   "metadata": {},
   "outputs": [],
   "source": [
    "# Agrupar por tipo de contrato\n",
    "# # Calcular el promedio de los montos mensuales \n",
    "type_monthly_mean = full_data.groupby(['Type'])['MonthlyCharges'].mean().reset_index(name='mean')"
   ]
  },
  {
   "cell_type": "code",
   "execution_count": 44,
   "metadata": {},
   "outputs": [
    {
     "data": {
      "image/png": "[encoded data removed]",
      "text/plain": [
       "<Figure size 640x480 with 1 Axes>"
      ]
     },
     "metadata": {},
     "output_type": "display_data"
    }
   ],
   "source": [
    "# Crear un grafico para visualizar el promedio de montos mensuales\n",
    "\n",
    "colors = ['blue', 'orange', 'pink']\n",
    "\n",
    "ax_type_monthly_mean = type_monthly_mean['mean'].plot(kind='bar', color= colors, edgecolor='black')\n",
    "\n",
    "# Cambiar las etiquetas en eje x\n",
    "ax_type_monthly_mean.set_xticklabels(type_monthly_mean['Type'], rotation=45)\n",
    "\n",
    "# Agregar título y etiquetas\n",
    "plt.title('Promedio de pagos mensuales por tipo de contrato')\n",
    "plt.xlabel('Tipo de contrato')\n",
    "plt.ylabel('Promedio')\n",
    "\n",
    "plt.show()\n"
   ]
  },
  {
   "cell_type": "markdown",
   "metadata": {},
   "source": [
    "En cuanto al promedio de pagos mensuales por tipo de contrato, se observa que los clientes con contrato de dos años pagan en promedio un poco menos, mientras que los contratos mes a mes pagan un poco más."
   ]
  },
  {
   "cell_type": "markdown",
   "metadata": {},
   "source": [
    "#### 5.4.2. Montos totales"
   ]
  },
  {
   "cell_type": "markdown",
   "metadata": {},
   "source": [
    "#### 5.4.2.1 Promedio de montos totales por año"
   ]
  },
  {
   "cell_type": "code",
   "execution_count": 45,
   "metadata": {},
   "outputs": [],
   "source": [
    "# Agrupar por año y tipo de contrato\n",
    "# # Calcular el promedio de los montos totales\n",
    "year_total_mean = full_data.groupby(['BeginYear'])['TotalCharges'].mean().reset_index(name='mean')"
   ]
  },
  {
   "cell_type": "code",
   "execution_count": 46,
   "metadata": {},
   "outputs": [
    {
     "data": {
      "image/png": "[encoded data removed]",
      "text/plain": [
       "<Figure size 640x480 with 1 Axes>"
      ]
     },
     "metadata": {},
     "output_type": "display_data"
    }
   ],
   "source": [
    "# Crear un grafico para visualizar el promedio de montos totales\n",
    "ax_year_total_mean = year_total_mean['mean'].plot(kind='bar', edgecolor='black')\n",
    "\n",
    "# Cambiar las etiquetas en eje x\n",
    "ax_year_total_mean.set_xticklabels(year_total_mean['BeginYear'], rotation=45)\n",
    "\n",
    "# Agregar título y etiquetas\n",
    "plt.title('Promedio de pagos totales por año')\n",
    "plt.xlabel('Año de registro')\n",
    "plt.ylabel('Promedio')\n",
    "\n",
    "plt.show()\n"
   ]
  },
  {
   "cell_type": "markdown",
   "metadata": {},
   "source": [
    "El promedio de cargos totales disminuye de forma importante cada año."
   ]
  },
  {
   "cell_type": "markdown",
   "metadata": {},
   "source": [
    "#### 5.4.2.2 Promedio de montos totales por tipo de contrato"
   ]
  },
  {
   "cell_type": "code",
   "execution_count": 47,
   "metadata": {},
   "outputs": [],
   "source": [
    "# Agrupar por tipo de contrato\n",
    "# # Calcular el promedio de los montos totales\n",
    "type_total_mean = full_data.groupby(['Type'])['TotalCharges'].mean().reset_index(name='mean')"
   ]
  },
  {
   "cell_type": "code",
   "execution_count": 48,
   "metadata": {},
   "outputs": [
    {
     "data": {
      "image/png": "[encoded data removed]",
      "text/plain": [
       "<Figure size 640x480 with 1 Axes>"
      ]
     },
     "metadata": {},
     "output_type": "display_data"
    }
   ],
   "source": [
    "# Crear un grafico para visualizar el promedio de montos mensuales\n",
    "\n",
    "colors = ['blue', 'orange', 'pink']\n",
    "\n",
    "ax_type_total_mean = type_total_mean['mean'].plot(kind='bar', color= colors, edgecolor='black')\n",
    "\n",
    "# Cambiar las etiquetas en eje x\n",
    "ax_type_total_mean.set_xticklabels(type_total_mean['Type'], rotation=45)\n",
    "\n",
    "# Agregar título y etiquetas\n",
    "plt.title('Promedio de pagos totales por tipo de contrato')\n",
    "plt.xlabel('Tipo de contrato')\n",
    "plt.ylabel('Promedio')\n",
    "\n",
    "plt.show()\n"
   ]
  },
  {
   "cell_type": "markdown",
   "metadata": {},
   "source": [
    "Al contrario que con los montos mensuales, donde en promedio los clientes con contrato mes a mes pagan mas que los contratos mas largos, el promedio de montos totales indica que los clientes con contratos de dos años pagan mucho más que los otros contratos. Quizas esto indica que los clientes que mas han cancelado contratos son los de contratos mas cortos y por eso reflejan un monto total mucho menor a pesar de pagar más mes a mes. "
   ]
  },
  {
   "cell_type": "markdown",
   "metadata": {},
   "source": [
    "#### 5.5. Cancelación de contratos"
   ]
  },
  {
   "cell_type": "code",
   "execution_count": 49,
   "metadata": {},
   "outputs": [
    {
     "data": {
      "text/plain": [
       "customerID          1869\n",
       "BeginDate           1869\n",
       "EndDate             1869\n",
       "Type                1869\n",
       "PaperlessBilling    1869\n",
       "PaymentMethod       1869\n",
       "MonthlyCharges      1869\n",
       "TotalCharges        1869\n",
       "InternetService     1869\n",
       "OnlineSecurity      1869\n",
       "OnlineBackup        1869\n",
       "DeviceProtection    1869\n",
       "TechSupport         1869\n",
       "StreamingTV         1869\n",
       "StreamingMovies     1869\n",
       "gender              1869\n",
       "SeniorCitizen       1869\n",
       "Partner             1869\n",
       "Dependents          1869\n",
       "MultipleLines       1869\n",
       "Churn               1869\n",
       "BeginYear           1869\n",
       "dtype: int64"
      ]
     },
     "execution_count": 49,
     "metadata": {},
     "output_type": "execute_result"
    }
   ],
   "source": [
    "# Ver la cantidad total de contratos cancelados \n",
    "full_data[full_data['Churn'] == 0].count()\n"
   ]
  },
  {
   "cell_type": "markdown",
   "metadata": {},
   "source": [
    "Tenemos una totalidad de 1869 contratos cancelados."
   ]
  },
  {
   "cell_type": "markdown",
   "metadata": {},
   "source": [
    "#### 5.5.1. Tasa de cancelación según tipo de contrato"
   ]
  },
  {
   "cell_type": "code",
   "execution_count": 50,
   "metadata": {},
   "outputs": [
    {
     "data": {
      "text/html": [
       "<div>\n",
       "<style scoped>\n",
       "    .dataframe tbody tr th:only-of-type {\n",
       "        vertical-align: middle;\n",
       "    }\n",
       "\n",
       "    .dataframe tbody tr th {\n",
       "        vertical-align: top;\n",
       "    }\n",
       "\n",
       "    .dataframe thead th {\n",
       "        text-align: right;\n",
       "    }\n",
       "</style>\n",
       "<table border=\"1\" class=\"dataframe\">\n",
       "  <thead>\n",
       "    <tr style=\"text-align: right;\">\n",
       "      <th></th>\n",
       "      <th>Type</th>\n",
       "      <th>In</th>\n",
       "      <th>Out</th>\n",
       "      <th>Churn_rate</th>\n",
       "    </tr>\n",
       "  </thead>\n",
       "  <tbody>\n",
       "    <tr>\n",
       "      <th>0</th>\n",
       "      <td>Month-to-month</td>\n",
       "      <td>2220</td>\n",
       "      <td>1655</td>\n",
       "      <td>42.709677</td>\n",
       "    </tr>\n",
       "    <tr>\n",
       "      <th>1</th>\n",
       "      <td>One year</td>\n",
       "      <td>1306</td>\n",
       "      <td>166</td>\n",
       "      <td>11.277174</td>\n",
       "    </tr>\n",
       "    <tr>\n",
       "      <th>2</th>\n",
       "      <td>Two year</td>\n",
       "      <td>1637</td>\n",
       "      <td>48</td>\n",
       "      <td>2.848665</td>\n",
       "    </tr>\n",
       "  </tbody>\n",
       "</table>\n",
       "</div>"
      ],
      "text/plain": [
       "             Type    In   Out  Churn_rate\n",
       "0  Month-to-month  2220  1655   42.709677\n",
       "1        One year  1306   166   11.277174\n",
       "2        Two year  1637    48    2.848665"
      ]
     },
     "execution_count": 50,
     "metadata": {},
     "output_type": "execute_result"
    }
   ],
   "source": [
    "# Contar los contratos cancelados segun tipo de contrato\n",
    "churn_per_type = full_data.groupby('Type')['Churn'].value_counts()\n",
    "\n",
    "# Convertir el índice en columnas para acceder a los valores de 'Churn'\n",
    "churn_per_type = churn_per_type.reset_index(name='Count')\n",
    "\n",
    "# Filtrar los contratos vigentes \n",
    "in_ = churn_per_type[churn_per_type['Churn'] == 1].reset_index(drop=True)\n",
    "\n",
    "# Eliminar la columna 'Churn'\n",
    "in_ = in_.drop(['Churn'], axis=1).reset_index(drop=True)\n",
    "\n",
    "# Renombrar la columnas en el df in_\n",
    "in_.columns = ['Type', 'In']\n",
    "\n",
    "# Filtrar los contratos cancelados\n",
    "out_ = churn_per_type[churn_per_type['Churn'] == 0].reset_index(drop=True)\n",
    "\n",
    "# Elmininar la columna 'Churn\n",
    "out_ = out_.drop(['Churn'], axis=1).reset_index(drop=True)\n",
    "\n",
    "# Renombrar las columnas en el df out_\n",
    "out_.columns = ['Type', 'Out']\n",
    "\n",
    "# Concatenar el conteo de contratos vigentes y cancelados  por tipo\n",
    "type_contract_churn = in_.merge(out_, on='Type')\n",
    "\n",
    "# Crear la conlumna 'Total' para la cantidad total de contratos por tipo \n",
    "type_contract_churn['Total'] = type_contract_churn['In'] + type_contract_churn['Out']\n",
    "\n",
    "# Calcular el porcentaje de cancelacion segun el tipo de contrato \n",
    "type_contract_churn['Churn_rate'] = (type_contract_churn['Out'] / type_contract_churn['Total']) * 100\n",
    "\n",
    "# Eliminar columna 'Total' \n",
    "type_contract_churn = type_contract_churn.drop(['Total'], axis=1)\n",
    "\n",
    "type_contract_churn"
   ]
  },
  {
   "cell_type": "code",
   "execution_count": 51,
   "metadata": {},
   "outputs": [
    {
     "data": {
      "image/png": "[encoded data removed]",
      "text/plain": [
       "<Figure size 640x480 with 1 Axes>"
      ]
     },
     "metadata": {},
     "output_type": "display_data"
    }
   ],
   "source": [
    "# Crear grafico de barras para la cantidad de cancelaciones por tipo de contrato\n",
    "colors = ['blue', 'orange']\n",
    "\n",
    "ax_type_contract_churn = type_contract_churn[['Type', 'In', 'Out']].plot(kind='bar', color=colors, edgecolor='black')\n",
    "\n",
    "# Cambiar las etiquetas en el eje x\n",
    "ax_type_contract_churn.set_xticklabels(type_contract_churn['Type'], rotation=45)\n",
    "\n",
    "# Agregar título y etiquetas\n",
    "plt.title('Cantidad de contratos por tipo')\n",
    "plt.xlabel('Tipo de Contrato')\n",
    "plt.ylabel('Cantidad de contratos')\n",
    "plt.legend(title='Contratos', labels=['Vigentes', 'Cancelados'])\n",
    "\n",
    "plt.show()"
   ]
  },
  {
   "cell_type": "markdown",
   "metadata": {},
   "source": [
    "En efecto, en la categoría de contratos mes a mes, se observa una cancelacion muy alta con respecto a los contratos que siguen vigentes. Luego siguen los contratos de un año y por ultimo, los de dos años; sin embargo, en estas dos últimas categorías, la cantidad de cancelaciones es muy baja en comparacion con contratos vigentes."
   ]
  },
  {
   "cell_type": "code",
   "execution_count": 52,
   "metadata": {},
   "outputs": [
    {
     "data": {
      "image/png": "[encoded data removed]",
      "text/plain": [
       "<Figure size 640x480 with 1 Axes>"
      ]
     },
     "metadata": {},
     "output_type": "display_data"
    }
   ],
   "source": [
    "# # Graficar la tasa de cancelacion segun tipo de contrato\n",
    "colors = ['blue', 'orange', 'pink']\n",
    "\n",
    "ax_churn_rate = type_contract_churn['Churn_rate'].plot(kind='bar', color=colors, edgecolor='black')\n",
    "\n",
    "# Cambiar las etiqueta en el eje x\n",
    "ax_churn_rate.set_xticklabels(type_contract_churn['Type'], rotation=45)\n",
    "\n",
    "# Agregar título y etiquetas\n",
    "plt.title('Tasa de cancelación por tipo de contrato')\n",
    "plt.xlabel('Tipo de Contrato')\n",
    "plt.ylabel('Porcentaje de cancelación')\n",
    "\n",
    "plt.show()"
   ]
  },
  {
   "cell_type": "markdown",
   "metadata": {},
   "source": [
    "La tasa de cancelación de cada tipo de contrato se ha calculado con respecto a la cantidad total de contratos existentes en cada una de las categorías.\n",
    "\n",
    "Mediante la imagen se puede observar que los contratos mes a mes tienen una tasa de cancelación muy alta, de aproximadamente 43%, luego vemos una disminución abrupta en los contratos de un año, con alrededor de 11%, mientras que para los clientes que contratan por dos años, este porcentaje disminuye a casi 3%.\n",
    "\n",
    "Esto confirma que lo que se vió en el gráfico para el promedio de pagos totales según el tipo de contrato, donde el promedio más alto correspondía a contratos de dos años y el más bajo a contratos mes a mes, a pesar de que los clientes de la categoría mes-a-mes pagan más, se debe a la tasa de abando. Esto se refleja proporcionalmente de manera inversa en ambos gráficos. "
   ]
  },
  {
   "cell_type": "markdown",
   "metadata": {},
   "source": [
    "#### 5.5.2. Cancelación según tipo de internet"
   ]
  },
  {
   "cell_type": "code",
   "execution_count": 53,
   "metadata": {},
   "outputs": [
    {
     "data": {
      "text/html": [
       "<div>\n",
       "<style scoped>\n",
       "    .dataframe tbody tr th:only-of-type {\n",
       "        vertical-align: middle;\n",
       "    }\n",
       "\n",
       "    .dataframe tbody tr th {\n",
       "        vertical-align: top;\n",
       "    }\n",
       "\n",
       "    .dataframe thead th {\n",
       "        text-align: right;\n",
       "    }\n",
       "</style>\n",
       "<table border=\"1\" class=\"dataframe\">\n",
       "  <thead>\n",
       "    <tr style=\"text-align: right;\">\n",
       "      <th></th>\n",
       "      <th>InternetService</th>\n",
       "      <th>Count</th>\n",
       "    </tr>\n",
       "  </thead>\n",
       "  <tbody>\n",
       "    <tr>\n",
       "      <th>1</th>\n",
       "      <td>Fiber optic</td>\n",
       "      <td>1297</td>\n",
       "    </tr>\n",
       "    <tr>\n",
       "      <th>0</th>\n",
       "      <td>DSL</td>\n",
       "      <td>459</td>\n",
       "    </tr>\n",
       "    <tr>\n",
       "      <th>2</th>\n",
       "      <td>No</td>\n",
       "      <td>113</td>\n",
       "    </tr>\n",
       "  </tbody>\n",
       "</table>\n",
       "</div>"
      ],
      "text/plain": [
       "  InternetService  Count\n",
       "1     Fiber optic   1297\n",
       "0             DSL    459\n",
       "2              No    113"
      ]
     },
     "execution_count": 53,
     "metadata": {},
     "output_type": "execute_result"
    }
   ],
   "source": [
    "# Contar contratos cancelados segun tipo de internet\n",
    "internet_churn = full_data.groupby('InternetService')['Churn'].value_counts()\t\n",
    "\n",
    "# Convertir el indice en columna para acceder a 'Count'\n",
    "internet_churn  = internet_churn.reset_index(name='Count')\t\n",
    "\n",
    "# Conservar solo la clase negativa (contratos cancelados)\n",
    "internet_churn = internet_churn[internet_churn['Churn'] == 0].drop(['Churn'], axis=1).reset_index(drop=True)\n",
    "\n",
    "# Organizar los valores de 'count'\n",
    "internet_churn = internet_churn.sort_values(by='Count', ascending=False)\n",
    "\n",
    "internet_churn"
   ]
  },
  {
   "cell_type": "code",
   "execution_count": 54,
   "metadata": {},
   "outputs": [
    {
     "data": {
      "image/png": "[encoded data removed]",
      "text/plain": [
       "<Figure size 640x480 with 1 Axes>"
      ]
     },
     "metadata": {},
     "output_type": "display_data"
    }
   ],
   "source": [
    "# Visualizar la canntidad de contratos cancelados segun tipo de internet\n",
    "ax_internet_churn = internet_churn.plot(kind='bar', legend=False, edgecolor='black')\n",
    "\n",
    "# Cambiar las etiquetas en el eje x\n",
    "ax_internet_churn.set_xticklabels(internet_churn['InternetService'], rotation=45)\n",
    "\n",
    "# Agregar título y etiquetas\n",
    "plt.title('Cancelación según tipo de internet')\n",
    "plt.xlabel('Tipo de internet')\n",
    "plt.ylabel('Cantidad de contratos cancelados')\n",
    "plt.show()"
   ]
  },
  {
   "cell_type": "markdown",
   "metadata": {},
   "source": [
    "El internet de fibra óptica cuenta con la mayor cantidad de contratos cancelados, cuyo número se eleva a casi 1300. Por otro lado, el internet DSL tiene una cantidad mucho menor de cancelaciones, alrededor de 500. Y en cuanto a los clientes que no poseen servicio de internet, la cantidad de cancelaciones no llega a 150."
   ]
  },
  {
   "cell_type": "markdown",
   "metadata": {},
   "source": [
    "#### 5.5.3. Cancelación según otros servicios derivados de internet"
   ]
  },
  {
   "cell_type": "code",
   "execution_count": 55,
   "metadata": {},
   "outputs": [],
   "source": [
    "# Crear un df para cada servicio de internet, filtrando unicamente la clase negativa,\n",
    "# (contratos cancelados), usando una funcion\n",
    "\n",
    "online_security_churn = group_service(full_data, 'OnlineSecurity')\n",
    "online_backup_churn = group_service(full_data, 'OnlineBackup')\n",
    "device_prot_churn = group_service(full_data, 'DeviceProtection')\n",
    "tech_support_churn = group_service(full_data, 'TechSupport')\n",
    "streaming_tv_churn = group_service(full_data, 'StreamingTV')\n",
    "streaming_movies_churn = group_service(full_data, 'StreamingMovies')"
   ]
  },
  {
   "cell_type": "code",
   "execution_count": 56,
   "metadata": {},
   "outputs": [
    {
     "data": {
      "text/html": [
       "<div>\n",
       "<style scoped>\n",
       "    .dataframe tbody tr th:only-of-type {\n",
       "        vertical-align: middle;\n",
       "    }\n",
       "\n",
       "    .dataframe tbody tr th {\n",
       "        vertical-align: top;\n",
       "    }\n",
       "\n",
       "    .dataframe thead th {\n",
       "        text-align: right;\n",
       "    }\n",
       "</style>\n",
       "<table border=\"1\" class=\"dataframe\">\n",
       "  <thead>\n",
       "    <tr style=\"text-align: right;\">\n",
       "      <th></th>\n",
       "      <th>type</th>\n",
       "      <th>yes</th>\n",
       "      <th>no</th>\n",
       "    </tr>\n",
       "  </thead>\n",
       "  <tbody>\n",
       "    <tr>\n",
       "      <th>0</th>\n",
       "      <td>online_security</td>\n",
       "      <td>1574</td>\n",
       "      <td>295</td>\n",
       "    </tr>\n",
       "    <tr>\n",
       "      <th>3</th>\n",
       "      <td>tech_support</td>\n",
       "      <td>1559</td>\n",
       "      <td>310</td>\n",
       "    </tr>\n",
       "    <tr>\n",
       "      <th>1</th>\n",
       "      <td>online_backup</td>\n",
       "      <td>1346</td>\n",
       "      <td>523</td>\n",
       "    </tr>\n",
       "    <tr>\n",
       "      <th>2</th>\n",
       "      <td>device_protection</td>\n",
       "      <td>1324</td>\n",
       "      <td>545</td>\n",
       "    </tr>\n",
       "    <tr>\n",
       "      <th>4</th>\n",
       "      <td>streaming_tv</td>\n",
       "      <td>1055</td>\n",
       "      <td>814</td>\n",
       "    </tr>\n",
       "    <tr>\n",
       "      <th>5</th>\n",
       "      <td>streaming_movies</td>\n",
       "      <td>1051</td>\n",
       "      <td>818</td>\n",
       "    </tr>\n",
       "  </tbody>\n",
       "</table>\n",
       "</div>"
      ],
      "text/plain": [
       "                type   yes   no\n",
       "0    online_security  1574  295\n",
       "3       tech_support  1559  310\n",
       "1      online_backup  1346  523\n",
       "2  device_protection  1324  545\n",
       "4       streaming_tv  1055  814\n",
       "5   streaming_movies  1051  818"
      ]
     },
     "execution_count": 56,
     "metadata": {},
     "output_type": "execute_result"
    }
   ],
   "source": [
    "# Lista de nombres de los servicios y los DataFrames correspondientes\n",
    "services = ['online_security', 'online_backup', 'device_protection', 'tech_support', 'streaming_tv', 'streaming_movies']\n",
    "dataframes = [online_security_churn, online_backup_churn, device_prot_churn, tech_support_churn, streaming_tv_churn, streaming_movies_churn]\n",
    "\n",
    "# Crear el DataFrame usando una lista de comprensión\n",
    "data_services = [\n",
    "    {'type': service, 'yes': df['yes'].iloc[0], 'no': df['no'].iloc[0]} \n",
    "    for service, df in zip(services, dataframes)\n",
    "]\n",
    "\n",
    "# Convertir la lista de diccionarios en un DataFrame\n",
    "inter_services_churn = pd.DataFrame(data_services)\n",
    "\n",
    "# Ordenar el df por columna 'yes'\n",
    "inter_services_churn = inter_services_churn.sort_values(by='yes', ascending=False)\n",
    "\n",
    "inter_services_churn"
   ]
  },
  {
   "cell_type": "code",
   "execution_count": 57,
   "metadata": {},
   "outputs": [
    {
     "data": {
      "image/png": "[encoded data removed]",
      "text/plain": [
       "<Figure size 640x480 with 1 Axes>"
      ]
     },
     "metadata": {},
     "output_type": "display_data"
    }
   ],
   "source": [
    "# Crear un grafico para visualizar cancelaciones en servicios derivados de internet \n",
    "ax_inter_services_churn = inter_services_churn.plot(kind='bar', edgecolor='black')\n",
    "\n",
    "# Cambiar las etiquetas en el eje x\n",
    "ax_inter_services_churn.set_xticklabels(inter_services_churn['type'], rotation=45)\n",
    "\n",
    "# Agregar título y etiquetas\n",
    "plt.title('Cancelación por servicios derivados de internet')\n",
    "plt.xlabel('Tipo de servicio de internet')\n",
    "plt.ylabel('Cantidad de contratos cancelados')\n",
    "plt.legend(title='Servicio', labels=['Si tiene', 'No tiene'])\n",
    "plt.show()"
   ]
  },
  {
   "cell_type": "markdown",
   "metadata": {},
   "source": [
    "En cuanto a los servicios derivados de internet se puede notar que los clientes que si contratan dicho servicio son los que más cancelan su contrato, por consiguiente, los clientes que no contratan ese servicio tienen un menor índice de cancelación."
   ]
  },
  {
   "cell_type": "markdown",
   "metadata": {},
   "source": [
    "#### 5.5.4. Cancelación según género"
   ]
  },
  {
   "cell_type": "code",
   "execution_count": 58,
   "metadata": {},
   "outputs": [
    {
     "data": {
      "text/html": [
       "<div>\n",
       "<style scoped>\n",
       "    .dataframe tbody tr th:only-of-type {\n",
       "        vertical-align: middle;\n",
       "    }\n",
       "\n",
       "    .dataframe tbody tr th {\n",
       "        vertical-align: top;\n",
       "    }\n",
       "\n",
       "    .dataframe thead th {\n",
       "        text-align: right;\n",
       "    }\n",
       "</style>\n",
       "<table border=\"1\" class=\"dataframe\">\n",
       "  <thead>\n",
       "    <tr style=\"text-align: right;\">\n",
       "      <th></th>\n",
       "      <th>gender</th>\n",
       "      <th>count</th>\n",
       "    </tr>\n",
       "  </thead>\n",
       "  <tbody>\n",
       "    <tr>\n",
       "      <th>0</th>\n",
       "      <td>Female</td>\n",
       "      <td>939</td>\n",
       "    </tr>\n",
       "    <tr>\n",
       "      <th>1</th>\n",
       "      <td>Male</td>\n",
       "      <td>930</td>\n",
       "    </tr>\n",
       "  </tbody>\n",
       "</table>\n",
       "</div>"
      ],
      "text/plain": [
       "   gender  count\n",
       "0  Female    939\n",
       "1    Male    930"
      ]
     },
     "execution_count": 58,
     "metadata": {},
     "output_type": "execute_result"
    }
   ],
   "source": [
    "# Contar los contratos agrupando por genero\n",
    "gender_churn = full_data.groupby('gender')['Churn'].value_counts().reset_index(name='count')\n",
    "\n",
    "# Conservar unicamente la clase negativa (contratos cancelados)\n",
    "gender_churn = gender_churn[gender_churn['Churn'] == 0].drop(['Churn'], axis=1).reset_index(drop=True)\n",
    "\n",
    "gender_churn"
   ]
  },
  {
   "cell_type": "markdown",
   "metadata": {},
   "source": [
    "Al contar los contratos cancelados según el género, no se observa una diferencia significativa entre las cancelaciones de mujeres y hombres. Ambos presentan cantidades similares, por lo tanto, se podría inferir que el género no es un factor determinante a la hora de que un cliente cancela su contrato. "
   ]
  },
  {
   "cell_type": "markdown",
   "metadata": {},
   "source": [
    "#### 5.5.5. Cancelación según información personal"
   ]
  },
  {
   "cell_type": "code",
   "execution_count": 59,
   "metadata": {},
   "outputs": [
    {
     "name": "stderr",
     "output_type": "stream",
     "text": [
      "/var/folders/82/grjgs_q959j1pwfb817_nsl80000gn/T/ipykernel_88445/1010544780.py:11: SettingWithCopyWarning: \n",
      "A value is trying to be set on a copy of a slice from a DataFrame.\n",
      "Try using .loc[row_indexer,col_indexer] = value instead\n",
      "\n",
      "See the caveats in the documentation: https://pandas.pydata.org/pandas-docs/stable/user_guide/indexing.html#returning-a-view-versus-a-copy\n",
      "  personal_info[['Partner', 'Dependents', 'MultipleLines']] = personal_encoded\n",
      "/var/folders/82/grjgs_q959j1pwfb817_nsl80000gn/T/ipykernel_88445/1010544780.py:11: SettingWithCopyWarning: \n",
      "A value is trying to be set on a copy of a slice from a DataFrame.\n",
      "Try using .loc[row_indexer,col_indexer] = value instead\n",
      "\n",
      "See the caveats in the documentation: https://pandas.pydata.org/pandas-docs/stable/user_guide/indexing.html#returning-a-view-versus-a-copy\n",
      "  personal_info[['Partner', 'Dependents', 'MultipleLines']] = personal_encoded\n"
     ]
    }
   ],
   "source": [
    "# filtrar la info personal de los clientes y la 'Churn'\n",
    "personal_info_columns = full_data[['SeniorCitizen', 'Partner', 'Dependents', 'MultipleLines', 'Churn']]\n",
    "\n",
    "# Conservar variables que no necesitan codificacion \n",
    "personal_info = personal_info_columns[['SeniorCitizen', 'Churn']]\n",
    "\n",
    "# Codificar variables categoricas\n",
    "personal_encoded = encoder_train(personal_info_columns[['Partner', 'Dependents', 'MultipleLines']])\n",
    "\n",
    "# Unir las nuevas variables codificadas al resto del df que no necesito codificacion\n",
    "personal_info[['Partner', 'Dependents', 'MultipleLines']] = personal_encoded "
   ]
  },
  {
   "cell_type": "code",
   "execution_count": 60,
   "metadata": {},
   "outputs": [],
   "source": [
    "# Agrupar 'SeniorCitizen' segun otras caracteristicas usando una funcion\n",
    "senior_partner = group_two_features(personal_info, 'SeniorCitizen', 'Partner')\n",
    "senior_dependents = group_two_features(personal_info, 'SeniorCitizen', 'Dependents')\n",
    "senior_multiple_lines = group_two_features(personal_info, 'SeniorCitizen', 'MultipleLines')"
   ]
  },
  {
   "cell_type": "markdown",
   "metadata": {},
   "source": [
    "#### 5.5.5.1. Visualización de cancelación según información personal"
   ]
  },
  {
   "cell_type": "code",
   "execution_count": 61,
   "metadata": {},
   "outputs": [
    {
     "data": {
      "image/png": "[encoded data removed]",
      "text/plain": [
       "<Figure size 640x480 with 1 Axes>"
      ]
     },
     "metadata": {},
     "output_type": "display_data"
    }
   ],
   "source": [
    "# visualizar cancelacion segun 'senior_citizen' y 'partner'\n",
    "# colors = ['blue', 'orange']\n",
    "\n",
    "ax_senior_partner = senior_partner.plot(kind='bar', edgecolor='black', legend=False)\n",
    "\n",
    "# Cambiar el nombre de las etiquetas en el eje x\n",
    "xlabels_names = [\n",
    "    'Joven soltero',\n",
    "    'Joven con pareja',\n",
    "    'Adulto mayor soltero',\n",
    "    'Adulto mayor con pareja'\n",
    "    ]\n",
    "\n",
    "ax_senior_partner.set_xticklabels(xlabels_names, rotation=45)\n",
    "\n",
    "# Agregar título y etiquetas\n",
    "plt.title('Cancelación según rango etario y estado civil')\n",
    "plt.xlabel('Rango etario y estado civil')\n",
    "plt.ylabel('Cantidad de contratos cancelados')\n",
    "\n",
    "plt.show()\n",
    "\n"
   ]
  },
  {
   "cell_type": "markdown",
   "metadata": {},
   "source": [
    "Se puede observar que la cantidad más alta de cancelaciones en los contratos la tienen las personas jovenes sin pareja. Esto es igual para mujeres y hombres."
   ]
  },
  {
   "cell_type": "code",
   "execution_count": 62,
   "metadata": {},
   "outputs": [
    {
     "data": {
      "image/png": "[encoded data removed]",
      "text/plain": [
       "<Figure size 640x480 with 1 Axes>"
      ]
     },
     "metadata": {},
     "output_type": "display_data"
    }
   ],
   "source": [
    "# visualizar cancelacion segun 'senior_citizen' y 'dependents''\n",
    "# colors = ['blue', 'orange']\n",
    "\n",
    "ax_senior_dependents = senior_dependents.plot(kind='bar', edgecolor='black', legend=False)\n",
    "\n",
    "# Cambiar el nombre de las etiquetas en el eje x\n",
    "xlabels_names = [\n",
    "    'Joven sin dependientes',\n",
    "    'Adulto mayor sin dependientes',\n",
    "    'Joven con dependientes',\n",
    "    'Adulto mayor con dependientes'\n",
    "    ]\n",
    "\n",
    "ax_senior_dependents.set_xticklabels(xlabels_names, rotation=45)\n",
    "\n",
    "# Agregar título y etiquetas\n",
    "plt.title('Cancelación según rango etario y dependientes')\n",
    "plt.xlabel('Rango etario y dependientes')\n",
    "plt.ylabel('Cantidad de contratos cancelados')\n",
    "\n",
    "plt.show()\n"
   ]
  },
  {
   "cell_type": "markdown",
   "metadata": {},
   "source": [
    "Se puede ver que hay una mayor cancelación entre las personas sin dependientes, y dentro de este grupo sin dependientes destancan las personas jovenes. \n",
    "\n",
    "Unido al gráfico anterior, se puede decir que quienes más cancelan contratos hasta ahora son las personas jóvenes, solteras y sin dependientes."
   ]
  },
  {
   "cell_type": "code",
   "execution_count": 63,
   "metadata": {},
   "outputs": [
    {
     "data": {
      "image/png": "[encoded data removed]",
      "text/plain": [
       "<Figure size 640x480 with 1 Axes>"
      ]
     },
     "metadata": {},
     "output_type": "display_data"
    }
   ],
   "source": [
    "# visualizar cancelacion segun 'senior_citizen' y 'multiple_lines''\n",
    "# colors = ['blue', 'orange']\n",
    "\n",
    "ax_senior_lines = senior_multiple_lines.plot(kind='bar', edgecolor='black', legend=False)\n",
    "\n",
    "# Cambiar el nombre de las etiquetas en el eje x\n",
    "xlabels_names = [\n",
    "    'Joven sin líneas múltiples',\n",
    "    'Joven con múltiples líneas',\n",
    "    'Adulto mayor con múltiples líneas',\n",
    "    'Adulto mayor sin líneas múltiples'\n",
    "    ]\n",
    "\n",
    "ax_senior_lines.set_xticklabels(xlabels_names, rotation=45)\n",
    "\n",
    "# Agregar título y etiquetas\n",
    "plt.title('Cancelación según rango etario y múltiples líneas')\n",
    "plt.xlabel('Rango etario y líneas múltiples')\n",
    "plt.ylabel('Cantidad de contratos cancelados')\n",
    "\n",
    "plt.show()\n"
   ]
  },
  {
   "cell_type": "markdown",
   "metadata": {},
   "source": [
    "Las personas jóvenes sin servicio de líneas múltiples son quienes tienen la cantidad más alta de contratos cancelados."
   ]
  },
  {
   "cell_type": "markdown",
   "metadata": {},
   "source": [
    "#### 5.6. Conclusiones EDA"
   ]
  },
  {
   "cell_type": "markdown",
   "metadata": {},
   "source": [
    "Mediante un análisis exploratorio detallado he encontrado varios aspectos interesantes en los referente a la tasa de cancelación de contratos dentro de la compañía. \n",
    "\n",
    "El conjunto que tengo a disposición recoje datos de clientes registrados desde el primero de octubre del 2013 hasta el primero de enero del 2020 (7 años) y las cancelaciones de algunos contratos se han venido realizando dentro de los últimos tres meses de dicho registro, es decir, desde el primero de octubre del año 2019 hasta el primero de enero del 2020 (última fecha registrada). \n",
    "\n",
    "Al ver las fechas de ingreso relacionadas a esas cancelaciones, se observan fechas recientes, del mismo año 2019. Significa que muchos de esos contratos duran apenas unos meses vigentes hasta que el cliente cancele. En varios casos durando incluso uno o dos meses dentro de la compañía solamente.\n",
    "\n",
    "La empresa ofrece tres tipo de contratos: mes a mes, un año y dos años. El contrato mes a mes tiene la mayor tasa de cancelación, que corresponde al 43% de la cantidad total de contratos en esta categoría. Las otras dos tienen una tasa menos alarmante de abandono, 11% en el caso del contrato de un año y 3% en el de dos. \n",
    "\n",
    "Quizás podría influir un poco el hecho de que, en promedio, el contrato mes a mes paga mensualmete más que los otros dos tipos, pero ésta diferencia no es significativa en realidad.\n",
    "\n",
    "Por otro lado, la compañía ofrece dos tipos de internet: fibra óptica y DSL. El de fibra óptica es el que tiene más cancelaciones, cerca de 1300, siendo que la cantidad total de contratos cancelados es 1869 en todo el registro. \n",
    "\n",
    "Además también se evaluó la cancelación en otros servicios derivados de internet, como seguriad online, streaming de películas, entre otros. El enfoque en este punto fue contrastar las cancelaciones entre clientes que han contratado el servicio adicional y los que no.\n",
    "El resultado que encontré es que la cancelación es más alta entre clientes que sí contratan algunos de estos servicios adicionales. \n",
    "\n",
    "En lo referente al servicio de telefonía, la tasa más alta de abandono se encuentra entre los clientes que no contratan líneas múltiples.\n",
    "\n",
    "Finalmente también se analizó la información personal que proporcionan los clientes, evaluando la cancelación mediante la combinación de variables, por ejemplo, su género, si tiene o no pareja o dependientes, entre otras características. \n",
    "\n",
    "En cuanto al género se puede decir que no influye directamente en la tasa de cancelación ya que tanto mujeres como hombres presentan aproximadamente la misma cantidad de contratos cancelados.\n",
    "\n",
    "Finalmente, en base al análisis de toda la información personal puedo definir un pequeño perfil de los clientes más propensos a cancelar su contrato: se trata de personas jóvenes, solteras y sin dependientes, con contratos mes a mes. \n",
    "\n",
    "\n",
    "Una recomendación para reducir la tasa de abando entre clientes con este perfil, podría ser ofrecer un plan con una duración más larga que un mes y más corta que un año, algo en el medio, como un contrato a tres meses. De esta manera se podría generar arraigo dentro de la compañía y el cliente podría querer renovar su contrato por otro período igual de tres meses o posiblemente saltar al de un año. \n",
    "\n",
    "Tambíen se podrían ofrecer algunos servicios un poco más enfocado en este perfil de cliente propenso a abandono, tales como podcast y música.\n",
    "\n"
   ]
  },
  {
   "cell_type": "markdown",
   "metadata": {},
   "source": [
    "### 6. Entrenamiento de los modelos"
   ]
  },
  {
   "cell_type": "markdown",
   "metadata": {},
   "source": [
    "#### 6.1. Preparación de datos para el entrenamiento "
   ]
  },
  {
   "cell_type": "markdown",
   "metadata": {},
   "source": [
    "\"\"\" Segmentación de subconjuntos de datos \"\"\""
   ]
  },
  {
   "cell_type": "code",
   "execution_count": 64,
   "metadata": {},
   "outputs": [
    {
     "name": "stdout",
     "output_type": "stream",
     "text": [
      "Tamaño del conjunto de entrenamiento: (4922, 20)\n",
      "Tamaño del conjunto de prueba: (1477, 20)\n",
      "Tamaño del conjunto de valildación: (633, 20)\n"
     ]
    }
   ],
   "source": [
    "# # Preparar los datos para entrenamiento\n",
    "# Eliminar las columnas de fechas\n",
    "data_to_split = full_data.drop(['EndDate', 'BeginDate'], axis=1)\n",
    "\n",
    "# Dividir subconjuntos de entrenamiento, prueba y validación\n",
    "data_train, data_test_1 = train_test_split(data_to_split, test_size=0.30, random_state=42)\n",
    "data_test, data_valid = train_test_split(data_test_1, test_size=0.30, random_state=42)\n",
    "\n",
    "\n",
    "print('Tamaño del conjunto de entrenamiento:', data_train.shape)\n",
    "print('Tamaño del conjunto de prueba:', data_test.shape)\n",
    "print('Tamaño del conjunto de valildación:', data_valid.shape)"
   ]
  },
  {
   "cell_type": "markdown",
   "metadata": {},
   "source": [
    "\"\"\" Codificación de variables categóricas y normalización de datos \"\"\""
   ]
  },
  {
   "cell_type": "code",
   "execution_count": 65,
   "metadata": {},
   "outputs": [],
   "source": [
    "## <-- Preparacion conjunto de entrenamiento -->\n",
    "\n",
    "# Filtrar columnas para codificar\n",
    "train_to_encode = data_train[['Type', 'PaperlessBilling', 'PaymentMethod', 'InternetService', 'OnlineSecurity', 'OnlineBackup', 'DeviceProtection', 'TechSupport', 'StreamingTV', 'StreamingMovies', 'gender', 'Partner', 'Dependents', 'MultipleLines']]\n",
    "\n",
    "# Filtrar columnas para escalar\n",
    "train_to_scale = data_train[['MonthlyCharges', 'TotalCharges']]\n",
    "\n",
    "# Filtrar el resto de las columnas \n",
    "train_other_columns = data_train[['customerID', 'Churn', 'SeniorCitizen']]\n",
    "\n",
    "# ------------------------------------------------------------------------------\n",
    "\n",
    "# Codificar conjunto de entrenamiento \n",
    "train_encoded = encoder_train(train_to_encode)\n",
    "\n",
    "# Agregarle los IDs para realizar un merge luego\n",
    "train_encoded['customerID'] = train_other_columns['customerID'].values\n",
    "\n",
    "# Escalar conjunto de entrenamiento\n",
    "train_scaled = scaler_train(train_to_scale)\n",
    "\n",
    "# Agregarle los IDs para realizar un merge luego\n",
    "train_scaled['customerID'] = train_other_columns['customerID'].values\n",
    "\n",
    "# Unir todo en nuevo conjunto de entrenamiento escalado y codificado\n",
    "merge_1 = train_other_columns.merge(train_encoded, on='customerID')\n",
    "\n",
    "data_train_scaled = merge_1.merge(train_scaled, on='customerID')"
   ]
  },
  {
   "cell_type": "code",
   "execution_count": 66,
   "metadata": {},
   "outputs": [],
   "source": [
    "## <-- Preparacion conjunto de prueba -->\n",
    "\n",
    "\n",
    "# Filtrar columnas para codificar\n",
    "test_to_encode = data_test[['Type', 'PaperlessBilling', 'PaymentMethod', 'InternetService', 'OnlineSecurity', 'OnlineBackup', 'DeviceProtection', 'TechSupport', 'StreamingTV', 'StreamingMovies', 'gender', 'Partner', 'Dependents', 'MultipleLines']]\n",
    "\n",
    "# Filtrar columnas para escalar\n",
    "test_to_scale = data_test[['MonthlyCharges', 'TotalCharges']]\n",
    "\n",
    "# Filtrar el resto de columnas \n",
    "test_other_columns = data_test[['customerID', 'Churn', 'SeniorCitizen']]\n",
    "\n",
    "\n",
    "# ------------------------------------------------------------------------------------------------\n",
    "\n",
    "# Codificar conjunto de entrenamiento \n",
    "test_encoded = encoder_test(train_to_encode, test_to_encode)\n",
    "\n",
    "# Agregarle los IDs para realizar un merge luego\n",
    "test_encoded['customerID'] = test_other_columns['customerID'].values\n",
    "\n",
    "# Escalar conjunto de entrenamiento\n",
    "test_scaled = scaler_test(train_to_scale, test_to_scale)\n",
    "\n",
    "# Agregarle los IDs para realizar un merge luego\n",
    "test_scaled['customerID'] = test_other_columns['customerID'].values\n",
    "\n",
    "# Unir todo en nuevo conjunto de entrenamiento escalado y codificado\n",
    "merge_1 = test_other_columns.merge(test_encoded, on='customerID')\n",
    "\n",
    "data_test_scaled = merge_1.merge(test_scaled, on='customerID')"
   ]
  },
  {
   "cell_type": "code",
   "execution_count": 67,
   "metadata": {},
   "outputs": [],
   "source": [
    "## <-- Preparacion conjunto de validacion -->\n",
    "\n",
    "\n",
    "# Filtrar columnas para codificar\n",
    "valid_to_encode = data_valid[['Type', 'PaperlessBilling', 'PaymentMethod', 'InternetService', 'OnlineSecurity', 'OnlineBackup', 'DeviceProtection', 'TechSupport', 'StreamingTV', 'StreamingMovies', 'gender', 'Partner', 'Dependents', 'MultipleLines']]\n",
    "\n",
    "# Filtrar columnas para escalar\n",
    "valid_to_scale = data_valid[['MonthlyCharges', 'TotalCharges']]\n",
    "\n",
    "# Filtrar resto de columnas \n",
    "valid_other_columns = data_valid[['customerID', 'Churn', 'SeniorCitizen']]\n",
    "\n",
    "# ------------------------------------------------------------------------------------------------------------\n",
    "\n",
    "# Codificar conjunto de entrenamiento \n",
    "valid_encoded = encoder_test(train_to_encode, valid_to_encode)\n",
    "\n",
    "# Agregarle los IDs para realizar un merge luego\n",
    "valid_encoded['customerID'] = valid_other_columns['customerID'].values\n",
    "\n",
    "# Escalar conjunto de entrenamiento\n",
    "valid_scaled = scaler_test(train_to_scale, valid_to_scale)\n",
    "\n",
    "# Agregarle los IDs para realizar un merge luego\n",
    "valid_scaled['customerID'] = valid_other_columns['customerID'].values\n",
    "\n",
    "# Unir todo en nuevo conjunto de entrenamiento escalado y codificado\n",
    "merge_1 = valid_other_columns.merge(valid_encoded, on='customerID')\n",
    "\n",
    "data_valid_scaled = merge_1.merge(valid_scaled, on='customerID')"
   ]
  },
  {
   "cell_type": "markdown",
   "metadata": {},
   "source": [
    "\"\"\" Cambio de índice a  'customerID' \"\"\""
   ]
  },
  {
   "cell_type": "code",
   "execution_count": 68,
   "metadata": {},
   "outputs": [],
   "source": [
    "# Establecer 'customerID' como indice\n",
    "data_train_scaled.set_index('customerID', inplace=True)\n",
    "\n",
    "data_test_scaled.set_index('customerID', inplace=True)\n",
    "\n",
    "data_valid_scaled.set_index('customerID', inplace=True)"
   ]
  },
  {
   "cell_type": "markdown",
   "metadata": {},
   "source": [
    "\"\"\" Definición de características y objetivo \"\"\""
   ]
  },
  {
   "cell_type": "code",
   "execution_count": 69,
   "metadata": {},
   "outputs": [],
   "source": [
    "# Definir las caracteristicas y el objetivo en conjunto de entrenamiento\n",
    "train_features = data_train_scaled.drop(['Churn'], axis=1)\n",
    "train_target = data_train_scaled['Churn']\n",
    "\n",
    "\n",
    "# Definir caracteristicas y objetivo en conjunto de prueba\n",
    "test_features = data_test_scaled.drop(['Churn'], axis=1)\n",
    "test_target = data_test_scaled['Churn']\n",
    "\n",
    "\n",
    "# Definir caracteristicas y objetivo en conjunto de validacion\n",
    "valid_features = data_valid_scaled.drop(['Churn'], axis=1)\n",
    "valid_target = data_valid_scaled['Churn']"
   ]
  },
  {
   "cell_type": "markdown",
   "metadata": {},
   "source": [
    "#### 6.2. Modelos"
   ]
  },
  {
   "cell_type": "markdown",
   "metadata": {},
   "source": [
    "#### 6.2.1. Bosque aleatorio "
   ]
  },
  {
   "cell_type": "code",
   "execution_count": 70,
   "metadata": {},
   "outputs": [],
   "source": [
    "# Crear un modelo de bosque aleatorio\n",
    "rf_model = RandomForestClassifier(random_state=345,\n",
    "                                      class_weight='balanced',\n",
    "                                      criterion='entropy',\n",
    "                                      max_depth=10,\n",
    "                                      max_features='sqrt',\n",
    "                                      min_samples_split=5,\n",
    "                                      n_estimators=200\n",
    "                                      )"
   ]
  },
  {
   "cell_type": "code",
   "execution_count": 71,
   "metadata": {},
   "outputs": [],
   "source": [
    "# Entrenar el modelo de bosque aleatorio \n",
    "rf_model.fit(train_features, train_target)\n",
    "\n",
    "# Evaluar el modelo en conjunto de entrenamiento\n",
    "rf_roc_auc_train, rf_accuracy_train = model_eval(rf_model, train_target, train_features)\n",
    "\n",
    "# Evaluar el modelo en conjunto de prueba \n",
    "rf_roc_auc_test, rf_accuracy_test = model_eval(rf_model, test_target, test_features)"
   ]
  },
  {
   "cell_type": "code",
   "execution_count": 72,
   "metadata": {},
   "outputs": [
    {
     "name": "stdout",
     "output_type": "stream",
     "text": [
      "Auc_roc en conjunto de entrenamiento: 0.9434299420026435\n",
      "Auc_roc en conjunto de prueba: 0.8331399899695806\n"
     ]
    }
   ],
   "source": [
    "# Mostrar outputs de evaluacion Roc_auc\n",
    "print('Auc_roc en conjunto de entrenamiento:', rf_roc_auc_train)\n",
    "print('Auc_roc en conjunto de prueba:', rf_roc_auc_test)"
   ]
  },
  {
   "cell_type": "code",
   "execution_count": 73,
   "metadata": {},
   "outputs": [
    {
     "name": "stdout",
     "output_type": "stream",
     "text": [
      "Exactitud en conjunto de entrenamiento 0.8547338480292564\n",
      "Exactitud en conjunto de prueba 0.7562626946513202\n"
     ]
    }
   ],
   "source": [
    "# Mostrar outputs de evaluacion Exactitud\n",
    "print('Exactitud en conjunto de entrenamiento', rf_accuracy_train)\n",
    "print('Exactitud en conjunto de prueba', rf_accuracy_test)"
   ]
  },
  {
   "cell_type": "markdown",
   "metadata": {},
   "source": [
    "La diferencia del puntuaje de evaluación tanto en la curva AUC-ROC como en la exactitud, en los conjuntos de entrenamiento y prueba, parece indicar que el modelo de bosque aleatorio se sobreajusta en el entrenamiento. "
   ]
  },
  {
   "cell_type": "markdown",
   "metadata": {},
   "source": [
    "#### 6.2.2. Árbol de decisión"
   ]
  },
  {
   "cell_type": "code",
   "execution_count": 74,
   "metadata": {},
   "outputs": [],
   "source": [
    "# Construir un modelo de arbol de decision\n",
    "dt_model = DecisionTreeClassifier(\n",
    "    random_state=42,\n",
    "    class_weight='balanced',\n",
    "    criterion='gini',\n",
    "    max_depth=5,\n",
    "    max_features=6,\n",
    "    min_samples_split=2,\n",
    "    splitter='random'\n",
    "    )"
   ]
  },
  {
   "cell_type": "code",
   "execution_count": 75,
   "metadata": {},
   "outputs": [],
   "source": [
    "# Entrenar el modelo  \n",
    "dt_model.fit(train_features, train_target)\n",
    "\n",
    "# Evaluar el modelo en conjunto de entrenamiento\n",
    "dt_roc_auc_train, dt_accuracy_train = model_eval(dt_model, train_target, train_features)\n",
    "\n",
    "# Evaluar el modelo en conjunto de prueba \n",
    "dt_roc_auc_test, dt_accuracy_test = model_eval(dt_model, test_target, test_features)"
   ]
  },
  {
   "cell_type": "code",
   "execution_count": 76,
   "metadata": {},
   "outputs": [
    {
     "name": "stdout",
     "output_type": "stream",
     "text": [
      "Auc_roc en conjunto de entrenamiento: 0.8171046084797653\n",
      "Auc_roc en conjunto de prueba: 0.7889721632427315\n"
     ]
    }
   ],
   "source": [
    "# Mostrar outputs de evaluacion Roc_auc\n",
    "print('Auc_roc en conjunto de entrenamiento:', dt_roc_auc_train)\n",
    "print('Auc_roc en conjunto de prueba:', dt_roc_auc_test)"
   ]
  },
  {
   "cell_type": "code",
   "execution_count": 77,
   "metadata": {},
   "outputs": [
    {
     "name": "stdout",
     "output_type": "stream",
     "text": [
      "Exactitud en conjunto de entrenamiento 0.744819179195449\n",
      "Exactitud en conjunto de prueba 0.7183480027081923\n"
     ]
    }
   ],
   "source": [
    "# Mostrar outputs de evaluacion Exactitud\n",
    "print('Exactitud en conjunto de entrenamiento', dt_accuracy_train)\n",
    "print('Exactitud en conjunto de prueba', dt_accuracy_test)"
   ]
  },
  {
   "cell_type": "markdown",
   "metadata": {},
   "source": [
    "Este modelo tiene menor precisión que el anterior pero no se muestra sobreajustado. "
   ]
  },
  {
   "cell_type": "markdown",
   "metadata": {},
   "source": [
    "#### 6.2.3. Catboost"
   ]
  },
  {
   "cell_type": "code",
   "execution_count": 78,
   "metadata": {},
   "outputs": [],
   "source": [
    "# Construir un modelo catboost\n",
    "cb_model = CatBoostClassifier(\n",
    "    random_seed=42,\n",
    "    iterations=150,          \n",
    "    learning_rate=0.05,      \n",
    "    loss_function='CrossEntropy',\n",
    "    max_depth=6,           \n",
    "    l2_leaf_reg=5,         \n",
    "    early_stopping_rounds=20 \n",
    ")"
   ]
  },
  {
   "cell_type": "code",
   "execution_count": 79,
   "metadata": {},
   "outputs": [
    {
     "name": "stdout",
     "output_type": "stream",
     "text": [
      "0:\tlearn: 0.6742189\ttotal: 55.5ms\tremaining: 8.28s\n",
      "1:\tlearn: 0.6565874\ttotal: 57.7ms\tremaining: 4.27s\n",
      "2:\tlearn: 0.6407996\ttotal: 60.9ms\tremaining: 2.99s\n",
      "3:\tlearn: 0.6257105\ttotal: 62.9ms\tremaining: 2.29s\n",
      "4:\tlearn: 0.6115450\ttotal: 66.3ms\tremaining: 1.92s\n",
      "5:\tlearn: 0.5981522\ttotal: 68.2ms\tremaining: 1.64s\n",
      "6:\tlearn: 0.5863686\ttotal: 70.1ms\tremaining: 1.43s\n",
      "7:\tlearn: 0.5758975\ttotal: 73.2ms\tremaining: 1.3s\n",
      "8:\tlearn: 0.5657254\ttotal: 76.6ms\tremaining: 1.2s\n",
      "9:\tlearn: 0.5567420\ttotal: 79.8ms\tremaining: 1.12s\n",
      "10:\tlearn: 0.5482810\ttotal: 81.8ms\tremaining: 1.03s\n",
      "11:\tlearn: 0.5404080\ttotal: 82.8ms\tremaining: 952ms\n",
      "12:\tlearn: 0.5338019\ttotal: 84.6ms\tremaining: 892ms\n",
      "13:\tlearn: 0.5272816\ttotal: 86.9ms\tremaining: 844ms\n",
      "14:\tlearn: 0.5208198\ttotal: 89.5ms\tremaining: 806ms\n",
      "15:\tlearn: 0.5141028\ttotal: 91.9ms\tremaining: 770ms\n",
      "16:\tlearn: 0.5083943\ttotal: 94.3ms\tremaining: 738ms\n",
      "17:\tlearn: 0.5028462\ttotal: 97ms\tremaining: 711ms\n",
      "18:\tlearn: 0.4980674\ttotal: 98.7ms\tremaining: 680ms\n",
      "19:\tlearn: 0.4938662\ttotal: 103ms\tremaining: 668ms\n",
      "20:\tlearn: 0.4890145\ttotal: 106ms\tremaining: 650ms\n",
      "21:\tlearn: 0.4849115\ttotal: 108ms\tremaining: 629ms\n",
      "22:\tlearn: 0.4807164\ttotal: 111ms\tremaining: 613ms\n",
      "23:\tlearn: 0.4765035\ttotal: 113ms\tremaining: 594ms\n",
      "24:\tlearn: 0.4730888\ttotal: 115ms\tremaining: 575ms\n",
      "25:\tlearn: 0.4693375\ttotal: 117ms\tremaining: 557ms\n",
      "26:\tlearn: 0.4665706\ttotal: 120ms\tremaining: 545ms\n",
      "27:\tlearn: 0.4632814\ttotal: 123ms\tremaining: 534ms\n",
      "28:\tlearn: 0.4607361\ttotal: 125ms\tremaining: 521ms\n",
      "29:\tlearn: 0.4578398\ttotal: 128ms\tremaining: 510ms\n",
      "30:\tlearn: 0.4549637\ttotal: 132ms\tremaining: 508ms\n",
      "31:\tlearn: 0.4524080\ttotal: 135ms\tremaining: 499ms\n",
      "32:\tlearn: 0.4502008\ttotal: 138ms\tremaining: 489ms\n",
      "33:\tlearn: 0.4478783\ttotal: 141ms\tremaining: 481ms\n",
      "34:\tlearn: 0.4458082\ttotal: 143ms\tremaining: 470ms\n",
      "35:\tlearn: 0.4437014\ttotal: 146ms\tremaining: 463ms\n",
      "36:\tlearn: 0.4419143\ttotal: 149ms\tremaining: 454ms\n",
      "37:\tlearn: 0.4402235\ttotal: 151ms\tremaining: 446ms\n",
      "38:\tlearn: 0.4386320\ttotal: 154ms\tremaining: 437ms\n",
      "39:\tlearn: 0.4369114\ttotal: 157ms\tremaining: 431ms\n",
      "40:\tlearn: 0.4353504\ttotal: 159ms\tremaining: 423ms\n",
      "41:\tlearn: 0.4339901\ttotal: 165ms\tremaining: 425ms\n",
      "42:\tlearn: 0.4325359\ttotal: 168ms\tremaining: 418ms\n",
      "43:\tlearn: 0.4313402\ttotal: 170ms\tremaining: 409ms\n",
      "44:\tlearn: 0.4298273\ttotal: 173ms\tremaining: 404ms\n",
      "45:\tlearn: 0.4285018\ttotal: 175ms\tremaining: 396ms\n",
      "46:\tlearn: 0.4272282\ttotal: 177ms\tremaining: 387ms\n",
      "47:\tlearn: 0.4261897\ttotal: 179ms\tremaining: 380ms\n",
      "48:\tlearn: 0.4249780\ttotal: 181ms\tremaining: 373ms\n",
      "49:\tlearn: 0.4239139\ttotal: 184ms\tremaining: 367ms\n",
      "50:\tlearn: 0.4229270\ttotal: 186ms\tremaining: 361ms\n",
      "51:\tlearn: 0.4219575\ttotal: 189ms\tremaining: 357ms\n",
      "52:\tlearn: 0.4208933\ttotal: 194ms\tremaining: 355ms\n",
      "53:\tlearn: 0.4199591\ttotal: 196ms\tremaining: 349ms\n",
      "54:\tlearn: 0.4189333\ttotal: 199ms\tremaining: 343ms\n",
      "55:\tlearn: 0.4180021\ttotal: 201ms\tremaining: 337ms\n",
      "56:\tlearn: 0.4171147\ttotal: 204ms\tremaining: 332ms\n",
      "57:\tlearn: 0.4162629\ttotal: 206ms\tremaining: 326ms\n",
      "58:\tlearn: 0.4154458\ttotal: 208ms\tremaining: 320ms\n",
      "59:\tlearn: 0.4146566\ttotal: 209ms\tremaining: 314ms\n",
      "60:\tlearn: 0.4139880\ttotal: 213ms\tremaining: 310ms\n",
      "61:\tlearn: 0.4132844\ttotal: 217ms\tremaining: 308ms\n",
      "62:\tlearn: 0.4124869\ttotal: 219ms\tremaining: 302ms\n",
      "63:\tlearn: 0.4117991\ttotal: 221ms\tremaining: 297ms\n",
      "64:\tlearn: 0.4111711\ttotal: 223ms\tremaining: 291ms\n",
      "65:\tlearn: 0.4106055\ttotal: 227ms\tremaining: 289ms\n",
      "66:\tlearn: 0.4099379\ttotal: 229ms\tremaining: 284ms\n",
      "67:\tlearn: 0.4094044\ttotal: 232ms\tremaining: 280ms\n",
      "68:\tlearn: 0.4088838\ttotal: 234ms\tremaining: 275ms\n",
      "69:\tlearn: 0.4082645\ttotal: 236ms\tremaining: 270ms\n",
      "70:\tlearn: 0.4077871\ttotal: 241ms\tremaining: 268ms\n",
      "71:\tlearn: 0.4073165\ttotal: 244ms\tremaining: 264ms\n",
      "72:\tlearn: 0.4068851\ttotal: 246ms\tremaining: 260ms\n",
      "73:\tlearn: 0.4064494\ttotal: 248ms\tremaining: 255ms\n",
      "74:\tlearn: 0.4059685\ttotal: 251ms\tremaining: 251ms\n",
      "75:\tlearn: 0.4055023\ttotal: 253ms\tremaining: 246ms\n",
      "76:\tlearn: 0.4050923\ttotal: 256ms\tremaining: 242ms\n",
      "77:\tlearn: 0.4045453\ttotal: 258ms\tremaining: 238ms\n",
      "78:\tlearn: 0.4043412\ttotal: 259ms\tremaining: 233ms\n",
      "79:\tlearn: 0.4039442\ttotal: 262ms\tremaining: 229ms\n",
      "80:\tlearn: 0.4034580\ttotal: 264ms\tremaining: 225ms\n",
      "81:\tlearn: 0.4030776\ttotal: 266ms\tremaining: 221ms\n",
      "82:\tlearn: 0.4026682\ttotal: 268ms\tremaining: 217ms\n",
      "83:\tlearn: 0.4023123\ttotal: 271ms\tremaining: 213ms\n",
      "84:\tlearn: 0.4019587\ttotal: 276ms\tremaining: 211ms\n",
      "85:\tlearn: 0.4015022\ttotal: 278ms\tremaining: 207ms\n",
      "86:\tlearn: 0.4011884\ttotal: 280ms\tremaining: 203ms\n",
      "87:\tlearn: 0.4007586\ttotal: 283ms\tremaining: 199ms\n",
      "88:\tlearn: 0.4002271\ttotal: 284ms\tremaining: 195ms\n",
      "89:\tlearn: 0.3997943\ttotal: 286ms\tremaining: 191ms\n",
      "90:\tlearn: 0.3993912\ttotal: 290ms\tremaining: 188ms\n",
      "91:\tlearn: 0.3990913\ttotal: 293ms\tremaining: 185ms\n",
      "92:\tlearn: 0.3988224\ttotal: 296ms\tremaining: 181ms\n",
      "93:\tlearn: 0.3983458\ttotal: 298ms\tremaining: 178ms\n",
      "94:\tlearn: 0.3979557\ttotal: 301ms\tremaining: 174ms\n",
      "95:\tlearn: 0.3976541\ttotal: 306ms\tremaining: 172ms\n",
      "96:\tlearn: 0.3972906\ttotal: 310ms\tremaining: 169ms\n",
      "97:\tlearn: 0.3969451\ttotal: 312ms\tremaining: 166ms\n",
      "98:\tlearn: 0.3965830\ttotal: 314ms\tremaining: 162ms\n",
      "99:\tlearn: 0.3963279\ttotal: 316ms\tremaining: 158ms\n",
      "100:\tlearn: 0.3960507\ttotal: 318ms\tremaining: 154ms\n",
      "101:\tlearn: 0.3957587\ttotal: 323ms\tremaining: 152ms\n",
      "102:\tlearn: 0.3956524\ttotal: 323ms\tremaining: 148ms\n",
      "103:\tlearn: 0.3954300\ttotal: 329ms\tremaining: 146ms\n",
      "104:\tlearn: 0.3951530\ttotal: 332ms\tremaining: 142ms\n",
      "105:\tlearn: 0.3950164\ttotal: 334ms\tremaining: 139ms\n",
      "106:\tlearn: 0.3947452\ttotal: 337ms\tremaining: 135ms\n",
      "107:\tlearn: 0.3945176\ttotal: 340ms\tremaining: 132ms\n",
      "108:\tlearn: 0.3941259\ttotal: 342ms\tremaining: 128ms\n",
      "109:\tlearn: 0.3938618\ttotal: 344ms\tremaining: 125ms\n",
      "110:\tlearn: 0.3935753\ttotal: 346ms\tremaining: 121ms\n",
      "111:\tlearn: 0.3933120\ttotal: 350ms\tremaining: 119ms\n",
      "112:\tlearn: 0.3929740\ttotal: 356ms\tremaining: 117ms\n",
      "113:\tlearn: 0.3926908\ttotal: 358ms\tremaining: 113ms\n",
      "114:\tlearn: 0.3923135\ttotal: 360ms\tremaining: 110ms\n",
      "115:\tlearn: 0.3920997\ttotal: 362ms\tremaining: 106ms\n",
      "116:\tlearn: 0.3918411\ttotal: 365ms\tremaining: 103ms\n",
      "117:\tlearn: 0.3916591\ttotal: 367ms\tremaining: 99.5ms\n",
      "118:\tlearn: 0.3913430\ttotal: 370ms\tremaining: 96.3ms\n",
      "119:\tlearn: 0.3911954\ttotal: 371ms\tremaining: 92.7ms\n",
      "120:\tlearn: 0.3908464\ttotal: 373ms\tremaining: 89.4ms\n",
      "121:\tlearn: 0.3906179\ttotal: 375ms\tremaining: 86.1ms\n",
      "122:\tlearn: 0.3903741\ttotal: 382ms\tremaining: 83.8ms\n",
      "123:\tlearn: 0.3901538\ttotal: 385ms\tremaining: 80.8ms\n",
      "124:\tlearn: 0.3900172\ttotal: 387ms\tremaining: 77.4ms\n",
      "125:\tlearn: 0.3897604\ttotal: 389ms\tremaining: 74.1ms\n",
      "126:\tlearn: 0.3895486\ttotal: 391ms\tremaining: 70.8ms\n",
      "127:\tlearn: 0.3892833\ttotal: 393ms\tremaining: 67.6ms\n",
      "128:\tlearn: 0.3890644\ttotal: 395ms\tremaining: 64.3ms\n",
      "129:\tlearn: 0.3888880\ttotal: 398ms\tremaining: 61.3ms\n",
      "130:\tlearn: 0.3886016\ttotal: 401ms\tremaining: 58.1ms\n",
      "131:\tlearn: 0.3884228\ttotal: 405ms\tremaining: 55.3ms\n",
      "132:\tlearn: 0.3882851\ttotal: 407ms\tremaining: 52.1ms\n",
      "133:\tlearn: 0.3880965\ttotal: 410ms\tremaining: 49ms\n",
      "134:\tlearn: 0.3878289\ttotal: 412ms\tremaining: 45.8ms\n",
      "135:\tlearn: 0.3875528\ttotal: 417ms\tremaining: 42.9ms\n",
      "136:\tlearn: 0.3872006\ttotal: 419ms\tremaining: 39.8ms\n",
      "137:\tlearn: 0.3869869\ttotal: 421ms\tremaining: 36.6ms\n",
      "138:\tlearn: 0.3868894\ttotal: 424ms\tremaining: 33.5ms\n",
      "139:\tlearn: 0.3866878\ttotal: 428ms\tremaining: 30.6ms\n",
      "140:\tlearn: 0.3865457\ttotal: 435ms\tremaining: 27.7ms\n",
      "141:\tlearn: 0.3862230\ttotal: 439ms\tremaining: 24.7ms\n",
      "142:\tlearn: 0.3860039\ttotal: 442ms\tremaining: 21.7ms\n",
      "143:\tlearn: 0.3858278\ttotal: 445ms\tremaining: 18.6ms\n",
      "144:\tlearn: 0.3855913\ttotal: 450ms\tremaining: 15.5ms\n",
      "145:\tlearn: 0.3853806\ttotal: 451ms\tremaining: 12.4ms\n",
      "146:\tlearn: 0.3852942\ttotal: 453ms\tremaining: 9.24ms\n",
      "147:\tlearn: 0.3851211\ttotal: 455ms\tremaining: 6.14ms\n",
      "148:\tlearn: 0.3848558\ttotal: 458ms\tremaining: 3.07ms\n",
      "149:\tlearn: 0.3846765\ttotal: 460ms\tremaining: 0us\n"
     ]
    }
   ],
   "source": [
    "# Entrenar el modelo \n",
    "cb_model.fit(train_features, train_target,  cat_features=None)\n",
    "\n",
    "# Evaluar el modelo en conjunto de entrenamiento\n",
    "cb_roc_auc_train, cb_accuracy_train = model_eval(cb_model, train_target, train_features)\n",
    "\n",
    "# Evaluar el modelo en conjunto de prueba \n",
    "cb_roc_auc_test, cb_accuracy_test = model_eval(cb_model, test_target, test_features)"
   ]
  },
  {
   "cell_type": "code",
   "execution_count": 80,
   "metadata": {},
   "outputs": [
    {
     "name": "stdout",
     "output_type": "stream",
     "text": [
      "Auc_roc en conjunto de entrenamiento: 0.8739254538500463\n",
      "Auc_roc en conjunto de prueba: 0.8401144124002231\n"
     ]
    }
   ],
   "source": [
    "# Mostrar outputs de evaluacion Roc_auc\n",
    "print('Auc_roc en conjunto de entrenamiento:', cb_roc_auc_train)\n",
    "print('Auc_roc en conjunto de prueba:', cb_roc_auc_test)"
   ]
  },
  {
   "cell_type": "code",
   "execution_count": 81,
   "metadata": {},
   "outputs": [
    {
     "name": "stdout",
     "output_type": "stream",
     "text": [
      "Exactitud en conjunto de entrenamiento 0.8201950426655831\n",
      "Exactitud en conjunto de prueba 0.7968855788761002\n"
     ]
    }
   ],
   "source": [
    "# Mostrar outputs de evaluacion Exactitud\n",
    "print('Exactitud en conjunto de entrenamiento', cb_accuracy_train)\n",
    "print('Exactitud en conjunto de prueba', cb_accuracy_test)"
   ]
  },
  {
   "cell_type": "markdown",
   "metadata": {},
   "source": [
    "Este modelo no demuestra  demasiado sobreajuste sin embargo, el puntaje AUC-ROC no es lo suficientemente alto."
   ]
  },
  {
   "cell_type": "markdown",
   "metadata": {},
   "source": [
    "#### 6.2.4. LightGBM"
   ]
  },
  {
   "cell_type": "code",
   "execution_count": 82,
   "metadata": {},
   "outputs": [],
   "source": [
    "# Construir el modelo lightgbm\n",
    "lgbm_model = LGBMClassifier(\n",
    "    random_state=42,\n",
    "    n_estimators=200,          \n",
    "    learning_rate=0.01,        \n",
    "    objective='binary',\n",
    "    class_weight='balanced',\n",
    "    max_depth=6,               \n",
    "    reg_alpha=0.1,             \n",
    "    reg_lambda=0.1,            \n",
    "    subsample=0.8,             \n",
    "    colsample_bytree=0.8,\n",
    ")"
   ]
  },
  {
   "cell_type": "code",
   "execution_count": 83,
   "metadata": {},
   "outputs": [],
   "source": [
    "# Entrenar el modelo\n",
    "lgbm_model.fit(train_features, train_target)\n",
    "\n",
    "# Evaluar el modelo en conjunto de entrenamiento\n",
    "lgbm_roc_auc_train, lgbm_accuracy_train = model_eval(lgbm_model, train_target, train_features)\n",
    "\n",
    "# Evaluar el modelo en conjunto de prueba \n",
    "lgbm_roc_auc_test, lgbm_accuracy_test = model_eval(lgbm_model, test_target, test_features)"
   ]
  },
  {
   "cell_type": "code",
   "execution_count": 84,
   "metadata": {},
   "outputs": [
    {
     "name": "stdout",
     "output_type": "stream",
     "text": [
      "Auc_roc en conjunto de entrenamiento: 0.886827411747384\n",
      "Auc_roc en conjunto de prueba: 0.8371943417185765\n"
     ]
    }
   ],
   "source": [
    "# Mostrar outputs de evaluacion Roc_auc\n",
    "print('Auc_roc en conjunto de entrenamiento:', lgbm_roc_auc_train)\n",
    "print('Auc_roc en conjunto de prueba:', lgbm_roc_auc_test)"
   ]
  },
  {
   "cell_type": "code",
   "execution_count": 85,
   "metadata": {},
   "outputs": [
    {
     "name": "stdout",
     "output_type": "stream",
     "text": [
      "Exactitud en conjunto de entrenamiento: 0.7822023567655425\n",
      "Exactitud en conjunto de prueba: 0.7251184834123223\n"
     ]
    }
   ],
   "source": [
    "# Mostrar outputs de evaluacion Exactitud\n",
    "print('Exactitud en conjunto de entrenamiento:', lgbm_accuracy_train)\n",
    "print('Exactitud en conjunto de prueba:', lgbm_accuracy_test)"
   ]
  },
  {
   "cell_type": "markdown",
   "metadata": {},
   "source": [
    "Este modelo proporciona el puntaje AUC-ROC más alto sin presentar demasiado sobreajuste en el entrenamiento, por lo tanto, este será elegido para la tarea de clasificación."
   ]
  },
  {
   "cell_type": "markdown",
   "metadata": {},
   "source": [
    "#### 6.3. Selección del modelo"
   ]
  },
  {
   "cell_type": "markdown",
   "metadata": {},
   "source": [
    "El modelo lightGBM resulta apropiado para la tarea de clasificación de nuestros datos, de modo que será el modelo seleccionado y a continuación, lo evaluaré en el conjunto de validación."
   ]
  },
  {
   "cell_type": "code",
   "execution_count": 86,
   "metadata": {},
   "outputs": [],
   "source": [
    "# Evaluar el modelo en conjunto de validación\n",
    "lgbm_roc_auc_valid, lgbm_accuracy_valid = model_eval(lgbm_model, valid_target, valid_features)"
   ]
  },
  {
   "cell_type": "code",
   "execution_count": 87,
   "metadata": {},
   "outputs": [
    {
     "name": "stdout",
     "output_type": "stream",
     "text": [
      "Auc_roc en conjunto de entrenamiento: 0.886827411747384\n",
      "Auc_roc en conjunto de validación 0.8275294903754722\n"
     ]
    }
   ],
   "source": [
    "# Mostrar outputs de evaluacion Roc_auc\n",
    "print('Auc_roc en conjunto de entrenamiento:', lgbm_roc_auc_train)     \n",
    "print('Auc_roc en conjunto de validación', lgbm_roc_auc_valid)"
   ]
  },
  {
   "cell_type": "code",
   "execution_count": 88,
   "metadata": {},
   "outputs": [
    {
     "name": "stdout",
     "output_type": "stream",
     "text": [
      "Exactitud en conjunto de entrenamiento 0.7822023567655425\n",
      "Exactitud en conjunto de validación 0.7330173775671406\n"
     ]
    }
   ],
   "source": [
    "# Mostrar outputs de evaluacion Exactitud\n",
    "print('Exactitud en conjunto de entrenamiento', lgbm_accuracy_train)\n",
    "print('Exactitud en conjunto de validación', lgbm_accuracy_valid)"
   ]
  },
  {
   "cell_type": "markdown",
   "metadata": {},
   "source": [
    "#### 6.4. Conclusiones del entrenamiento "
   ]
  },
  {
   "cell_type": "markdown",
   "metadata": {},
   "source": [
    "Para la tarea de clasificación que aborda este proyecto, se construyeron cuatro tipos de modelos de machine learning: bosque aleatorio, árbol de decisión, catboost y lightGBM. \n",
    "\n",
    "Todos los modelos fueron entrenados con datos normalizados o escalados, utilizando un subconjunto de entrenamiento. Por otro lado, cómo métrica de evaluación se utilizó pricipalmente la curva AUC-ROC y de manera complementaria la de exactitud, en un subconjunto de prueba.\n",
    "\n",
    "El modelo seleccionado obtuvo un puntaje AUC-ROC de 0.88 y una exactitud de 0.73 en el conjunto de entrenamiento y no mostró demasiado sobreajuste. Se trata del lightGBM. \n",
    "\n",
    "Por último, evalué una vez más el modelo seleccionado en un subconjunto de validación pequeño, donde obtuve un puntaje de 0.82 para AUC-ROC y 0.73 en exactitud. Aunque la métrica disminuye cuando la comparamos con el puntaje de evaluación obtenido en el subconjunto de entrenamiento, esto puede deberse a las pequeñas variaciones de la desviación estandar en ambos conjuntos, sobretodo tomando en cuenta el tamaño pequeño de la muestra de validación y el tamaño grande de la muestra de entrenamiento.\n"
   ]
  },
  {
   "cell_type": "markdown",
   "metadata": {},
   "source": [
    "### 7. Informe final\n",
    "\n",
    "---\n",
    "#### A. ¿Qué pasos del plan se realizaron y qué pasos se omitieron?\n",
    "\n",
    "Se realizaron todos los pasos expuestos en el plan de trabajo, los cuales fueron:\n",
    "\n",
    "##### 1. Preprocesamiento y Evaluación de Datos\n",
    "\n",
    "Tenía a disposición cuatro conjuntos de datos donde se separaba la información de los clientes dependiendo del servicio ofrecido por la compañía. En cada uno revisé los tipos de datos, así como los valores ausentes o duplicados y modifiqué en los casos en que fue necesario. \n",
    "\n",
    "Al asegurarme de tener todos los datos debidamente procesados, realicé la unión de toda la información en un solo conjunto, lo que me permitió pasar a la exploración de todas las variables disponibles sin perder información importante.\n",
    "\n",
    "Luego de tener toda la información reunida en un solo set, procedí a segmentar en subconjuntos de entrenamiento, validación y prueba que utilizaría más adelante con los modelos, y en cada uno de ellos hice un proceso de codificación para variables categóricas y escalado para variables numéricas, por separado. De este modo, me aseguré de que entrenaría los modelos con datos normalizados para evitar sobreajustes u otros inconvenientes. \n",
    "\n",
    "##### 2. Determinación del Tipo de Tarea de Machine Learning\n",
    "\n",
    "Se determinó que la tarea correspondía a una clasificación binaria, ya que necesitabamos saber si un cliente abandonaría la compañía o no. Y establecer el tipo de tarea, me permitió decidir qué tipos de modelos construiría y entrenaría más adelante.\n",
    "\n",
    "##### 3. Desarrollo y Entrenamiento de Modelos\n",
    "\n",
    "Construí y entrené cuatro modelos, la mayoría de ellos basados en árboles: bosque aleatorio, árbol de decisión, lightGBM y catboost.\n",
    "\n",
    "Cada uno de los modelos se evaluó usando un subconjunto de prueba, teniendo como métrica principal AUC-ROC y como secundaria, exactitud. \n",
    "\n",
    "##### 4. Selección del Mejor Modelo\n",
    "\n",
    "Se eligió el modelo con el puntaje AUC-ROC más alto sin muestra de mucho sobreajuste en el entrenamiento.\n",
    "\n",
    "##### 5. Prueba del Modelo Seleccionado\n",
    "\n",
    "El modelo se evaluó en un subconjunto de validación más pequeño previamente separado solo para este propósito.\n",
    "\n",
    "\n",
    "##### 6. Preparación del Informe de Resultado\n",
    "\n",
    "Se añadieron conclusiones al final de la etapa de exploración de los datos y al final de la etapa de entrenamiento y selección del modelo. \n",
    "Por último se incluye el presente informe de resultados. \n",
    "\n",
    "\n",
    "---\n",
    "#### B. ¿Qué dificultades encontraste y cómo lograste resolverlas?\n",
    "\n",
    "Una de las dificultades más importantes que encontré fue al momento de normalizar mis datos, puesto que había empleado un función que me permitía escalar y codificar el conjunto de datos completo, realizando un solo paso de \"fit_transform\" en todo el set y luego segmenté en subconjuntos de entrenamiento, validación y prueba, lo que ocasionó un gran sobreajuste al entrenar los modelos. \n",
    "\n",
    "La solución para este problema fue tomar los datos originales y realizar la segmentación de los subconjuntos primero, antes de cualquier transformación. Luego, construí un nuevo escalador y codificador y los entrené con el set de entrenamiento.\n",
    "\n",
    "Posteriormente escalé y codifiqué cada subconjunto por separado, realizando solamente un paso de \"transform\" para los subconjuntos de valildación y prueba. Así tuve datos adecuados para el entrenamiento de los modelos y logré reducir el sobreajuste.\n",
    "\n",
    "\n",
    "--- \n",
    "#### C.  ¿Cuáles fueron algunos de los pasos clave para resolver la tarea?\n",
    "\n",
    "Uno de los pasos claves fue reunir toda la información de los clientes y realizar la exploración en un solo conjunto de datos completo.\n",
    "\n",
    "Otro paso fundamental fue la exploración de los datos misma, ya que de esta manera me relacioné muy bien con toda la información y logré entender en gran medida el comportamiento de los clientes y realizar un perfil de los usuarios más propensos a abandonar la compañía.\n",
    "\n",
    "Por otro lado, también resultó clave la creación de distintas funciones para reducir código en las tareas más repetitivas, como la evaluación de los modelos por ejemplo. \n",
    "\n",
    "\n",
    "---\n",
    "#### D. ¿Cuál es tu modelo final y qué nivel de calidad tiene?\n",
    "\n",
    "El modelo elegido fue el lightGBM, que obtuvo un puntaje AUC-ROC de 0.88 y una exactitud de 0.73 en el conjunto de entrenamiento y no mostró demasiado sobreajuste. \n",
    "\n",
    "Yo diría que aunque no es un modelo perfecto, ya que las métricas bajaron un poco en el conjunto de validación final, su calidad es buena. "
   ]
  }
 ],
 "metadata": {
  "kernelspec": {
   "display_name": "Python 3",
   "language": "python",
   "name": "python3"
  },
  "language_info": {
   "codemirror_mode": {
    "name": "ipython",
    "version": 3
   },
   "file_extension": ".py",
   "mimetype": "text/x-python",
   "name": "python",
   "nbconvert_exporter": "python",
   "pygments_lexer": "ipython3",
   "version": "3.12.2"
  }
 },
 "nbformat": 4,
 "nbformat_minor": 2
}
